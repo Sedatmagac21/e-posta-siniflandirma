{
 "cells": [
  {
   "cell_type": "markdown",
   "metadata": {},
   "source": [
    "# Naive Bayes\n",
    "\n",
    "Bir spam algılama sorunu için Naive Bayes algoritmasını uygulayacaz. 1 - 3. Bölümler sorun hakkında yararlı bağlamlar sağlar. 4. Bölümde algoritmayı gerçekten uygulayacak işlevler yazacaz. 5. Bölümde bazı ilginç notlandırılmamış uzantılar yer almaktadır."
   ]
  },
  {
   "cell_type": "markdown",
   "metadata": {},
   "source": [
    "# Anahat\n",
    "- [ 1 - Giriş](#1)\n",
    "- [ 2 - Gerekli içe aktarmalar](#2)\n",
    "- [ 3 - Veri Kümesi](#3)\n",
    "  - [ 3.1 Veri Kümesini Yükleme ve İnceleme](#3.1)\n",
    "  - [ 3.2 Veri Kümesini Ön İşleme](#3.2)\n",
    "  - [ 3.3 Metni Ön İşleme](#3.3)\n",
    "  - [ 3.4 Eğitim/test olarak bölme](#3.4)\n",
    "- [ 4 - Naive Bayes Algoritmasını Uygulama](#4)\n",
    "  - [ 4.1 $P(\\text{email} \\mid \\text{spam})$ ve $P(\\text{email} \\mid \\text{ham})$ Hesaplama](#4.1)\n",
    "  - [ 4.2 $P(\\text{spam})$ ve $P(\\text{ham})$ Hesaplama](#4.2)\n",
    "\n",
    "  - [ 4.3 Her şeyi bir araya getirme](#4.3)\n",
    "    - [ Alıştırma 1](#ex01)\n",
    "    - [ Alıştırma 2](#ex02)\n",
    "    - [ Alıştırma 3](#ex03)\n",
    "    - [ Alıştırma 4](#ex04)\n",
    "  - [ 4.4 Model performansı](#4.4)\n",
    "- [ 5 - Ek Bölüm](#5)\n",
    "  - [ 5.1 Naive Bayes modelindeki gizli sorun.](#5.1)\n",
    "  - [ 5.2 Model performansını geliştirme: Naive Bayes ile pratik uygulama](#5.2)"
   ]
  },
  {
   "cell_type": "markdown",
   "metadata": {},
   "source": [
    "<a name=\"1\"></a>\n",
    "## 1 - Giriş\n",
    "\n",
    "Naive Bayes algoritması, bir veri noktasının belirli bir sınıfa ait olup olmadığını belirleme amacıyla Bayes Teoremi'nden yararlanarak Makine Öğrenimi ve Veri Bilimi'nde bir temel taşı olarak durmaktadır. Algoritma, her bir özelliğin diğerlerinden bağımsız olduğu yönünde \"naive bir varsayım\" yapar. Bu varsayım, verileriniz için neredeyse kesinlikle doğru değildir, ancak bunu yapmak, uygulanması önemli ölçüde daha kolay bir algoritmaya yol açar ve göreceğiniz gibi, etkileyici derecede faydalı sonuçlara yol açabilir. Naive Bayes'in denetlenen bir algoritma olduğunu, yani etkili bir şekilde çalışması için önceden etiketlenmiş verilere ihtiyaç duyduğunu belirtmek önemlidir. Göreceğiniz örnekte, algoritmayı eğitmek için bir dizi e-postanın önceden \"spam\" veya \"ham\" olarak işaretlenmiş olması gerektiği anlamına gelir.\n",
    "\n",
    "### Spam Algılama için Naive Bayes\n",
    "\n",
    "Bu ödev ikili bir sınıflandırma problemine odaklanmaktadır: spam ve spam olmayan e-postalar arasında ayrım yapmak, halk arasında \"ham\" olarak anılır. Bu görevin amacı için, spam e-postalar $1$ olarak etiketlenecek ve spam olmayan (ham) e-postalar $0$ olarak etiketlenecektir.\n",
    "\n",
    "Belirli bir e-posta için ilgi olasılığı şu şekilde gösterilir:\n",
    "\n",
    "$$ P(\\text{spam} \\mid \\text{email}) $$\n",
    "\n",
    "Bu olasılık ne kadar yüksekse e-postanın spam olarak sınıflandırılma olasılığı da o kadar yüksektir. Bayes Teoremi hesaplamada şu şekilde kullanılır:\n",
    "\n",
    "$$ P(\\text{spam} \\mid \\text{email}) = \\frac{P(\\text{email} \\mid \\text{spam}) \\cdot P(\\text{spam})}{P(\\text{email})} $$\n",
    "\n",
    "Terimlerin dökümü şöyle:\n",
    "\n",
    "- $ P(\\text{spam}) $: Rastgele seçilen bir e-postanın spam olma olasılığı, veri kümesindeki spam e-postaların oranına eşittir.\n",
    "- $ P(\\text{email} \\mid \\text{spam}) $: Spam olduğu bilinen belirli bir e-postanın oluşma olasılığı.\n",
    "- $ P(\\text{email}) $: E-postanın oluşma genel olasılığı.\n",
    "\n",
    "Bu yaklaşımda kullanabileceğiniz ilginç bir erken \"kısayol\" $ P(\\text{email}) $ terimini görmezden gelmektir. Bu hesaplamanın amacı bir e-postanın spam olma olasılığını ham olma olasılığıyla karşılaştırmaktır. İşte hem $ P(\\text{spam} \\mid \\text{email}) $ hem de $ P(\\text{ham} \\mid \\text{email}) $ için ifadeler:\n",
    "\n",
    "$$ P(\\text{spam} \\mid \\text{email}) = \\frac{P(\\text{email} \\mid \\text{spam}) \\cdot P(\\text{spam})}{P(\\text{email})} $$\n",
    "\n",
    "$$ P(\\text{ham} \\mid \\text{email}) = \\frac{P(\\text{email} \\mid \\text{ham}) \\cdot P(\\text{ham})}{P(\\text{email})} $$\n",
    "\n",
    "$ P(\\text{email}) > 0 $ olduğundan ve her iki ifadede de görüldüğünden, iki olasılığı karşılaştırmak için yalnızca payların değerlendirilmesi yeterlidir ve bu paydayı göz ardı edebilirsiniz."
   ]
  },
  {
   "cell_type": "markdown",
   "metadata": {},
   "source": [
    "<a name=\"2\"></a>\n",
    "## 2 - Gerekli içe aktarımlar\n",
    "\n",
    "Bu sonraki kod bloğu, ödevde ihtiyaç duyacağınız tüm gerekli kütüphaneleri ve işlevleri ve çalışırken geri bildirim sağlayacak birim testlerini içe aktaracaktır."
   ]
  },
  {
   "cell_type": "code",
   "execution_count": 2,
   "metadata": {
    "tags": [
     "graded"
    ]
   },
   "outputs": [],
   "source": [
    "import numpy as np\n",
    "import pandas as pd\n",
    "from nltk.corpus import stopwords\n",
    "from nltk import word_tokenize\n",
    "import string\n",
    "\n"
   ]
  },
  {
   "cell_type": "code",
   "execution_count": 3,
   "metadata": {},
   "outputs": [],
   "source": [
    "import w1_unittest"
   ]
  },
  {
   "cell_type": "markdown",
   "metadata": {},
   "source": [
    "<a name=\"3\"></a>\n",
    "## 3 - Veri Kümesi\n",
    "\n",
    "<a name=\"3.1\"></a>\n",
    "### 3.1 Veri Kümesini Yükleme ve İnceleme\n",
    "\n",
    "Aşağıdaki kod bloğu veri kümesini belleğe yükleyecektir. Pandas [DataFrame](https://pandas.pydata.org/docs/index.html) olarak okumak için [Pandas Kütüphanesini](https://pandas.pydata.org/docs/reference/api/pandas.DataFrame.html#pandas.DataFrame) kullanacaksınız, birincil nesnesi. Ancak, Pandas'a hala aşinalık kazanıyorsanız **endişelenmenize gerek yok**. Veri yapısını göstermek için yüklenecek ve gerçek işiniz için NumPy dizileriyle sonuçlanacaksınız."
   ]
  },
  {
   "cell_type": "code",
   "execution_count": 4,
   "metadata": {},
   "outputs": [
    {
     "data": {
      "text/html": [
       "<div>\n",
       "<style scoped>\n",
       "    .dataframe tbody tr th:only-of-type {\n",
       "        vertical-align: middle;\n",
       "    }\n",
       "\n",
       "    .dataframe tbody tr th {\n",
       "        vertical-align: top;\n",
       "    }\n",
       "\n",
       "    .dataframe thead th {\n",
       "        text-align: right;\n",
       "    }\n",
       "</style>\n",
       "<table border=\"1\" class=\"dataframe\">\n",
       "  <thead>\n",
       "    <tr style=\"text-align: right;\">\n",
       "      <th></th>\n",
       "      <th>text</th>\n",
       "      <th>spam</th>\n",
       "    </tr>\n",
       "  </thead>\n",
       "  <tbody>\n",
       "    <tr>\n",
       "      <th>0</th>\n",
       "      <td>Subject: naturally irresistible your corporate...</td>\n",
       "      <td>1</td>\n",
       "    </tr>\n",
       "    <tr>\n",
       "      <th>1</th>\n",
       "      <td>Subject: the stock trading gunslinger  fanny i...</td>\n",
       "      <td>1</td>\n",
       "    </tr>\n",
       "    <tr>\n",
       "      <th>2</th>\n",
       "      <td>Subject: unbelievable new homes made easy  im ...</td>\n",
       "      <td>1</td>\n",
       "    </tr>\n",
       "    <tr>\n",
       "      <th>3</th>\n",
       "      <td>Subject: 4 color printing special  request add...</td>\n",
       "      <td>1</td>\n",
       "    </tr>\n",
       "    <tr>\n",
       "      <th>4</th>\n",
       "      <td>Subject: do not have money , get software cds ...</td>\n",
       "      <td>1</td>\n",
       "    </tr>\n",
       "  </tbody>\n",
       "</table>\n",
       "</div>"
      ],
      "text/plain": [
       "                                                text  spam\n",
       "0  Subject: naturally irresistible your corporate...     1\n",
       "1  Subject: the stock trading gunslinger  fanny i...     1\n",
       "2  Subject: unbelievable new homes made easy  im ...     1\n",
       "3  Subject: 4 color printing special  request add...     1\n",
       "4  Subject: do not have money , get software cds ...     1"
      ]
     },
     "execution_count": 4,
     "metadata": {},
     "output_type": "execute_result"
    }
   ],
   "source": [
    "dataframe_emails = pd.read_csv('emails.csv')\n",
    "dataframe_emails.head()"
   ]
  },
  {
   "cell_type": "markdown",
   "metadata": {},
   "source": [
    "Veri setini biraz inceleyelim:"
   ]
  },
  {
   "cell_type": "code",
   "execution_count": 5,
   "metadata": {},
   "outputs": [
    {
     "name": "stdout",
     "output_type": "stream",
     "text": [
      "E-posta sayısı: 5728\n",
      "Spam e-postaların oranı: 0.2388\n",
      "ham e-postaların oranı: 0.7612\n"
     ]
    }
   ],
   "source": [
    "print(f\"E-posta sayısı: {len(dataframe_emails)}\")\n",
    "print(f\"Spam e-postaların oranı: {dataframe_emails.spam.sum()/len(dataframe_emails):.4f}\")\n",
    "print(f\"ham e-postaların oranı: {1-dataframe_emails.spam.sum()/len(dataframe_emails):.4f}\")"
   ]
  },
  {
   "cell_type": "markdown",
   "metadata": {},
   "source": [
    "Bu veri kümesinin **dengesiz** olduğunu unutmayın. İçinde spam e-postalarından üç kat daha fazla ham e-posta var! Bu, herhangi bir veri analizi projesinde bilinmesi gereken yararlı bir bağlamdır ve Naive Bayes dahil olmak üzere bazı makine öğrenimi algoritmalarının nasıl çalıştığını etkileyebilir."
   ]
  },
  {
   "cell_type": "markdown",
   "metadata": {},
   "source": [
    "<a name=\"3.2\"></a>\n",
    "### 3.2 Veri setinin ön işlenmesi"
   ]
  },
  {
   "cell_type": "markdown",
   "metadata": {},
   "source": [
    "DataFrame'in iki sütunu vardır. `text` adlı sütun e-postanın içeriğini, `spam` adlı sütun ise e-postanın spam olup olmadığını belirten sayısal bir değişkeni içerir. $1$'in spam, $0$'ın ise ham (spam değil) anlamına geldiğini unutmayın. Bir sonraki fonksiyon birkaç önemli ön işleme adımını tamamlayacaktır:\n",
    "\n",
    "* Her e-postanın `Subject:` ile başladığını unutmayın. Bu fonksiyon bu kelimeyi her e-postanın önünden kaldıracaktır.\n",
    "* Veri setini rastgele karıştıracaktır. Şu anda tüm spam e-postalar veri setinin en üstünde, ardından ham e-postalar geliyor. Verileri eğitim ve test veri setleri arasında düzgün bir şekilde bölmek için karıştırılmış bir veri setine ihtiyacınız var.\n",
    "\n",
    "Bu fonksiyondaki tüm Python'u anlamasanız bile endişelenmeyin, ancak genellikle analize başlamadan önce verilerinizi keşfetmeniz ve ön işleme tabi tutmanız gerektiğini hatırlatmak için buraya eklenmiştir."
   ]
  },
  {
   "cell_type": "code",
   "execution_count": 6,
   "metadata": {},
   "outputs": [],
   "source": [
    "def preprocess_emails(df):\n",
    "    \"\"\"\n",
    "Bir DataFrame'den e-posta verilerini önceden işler.\n",
    "\n",
    "Parametreler:\n",
    "- df (pandas.DataFrame): 'text' ve 'spam' sütunlarına sahip e-posta verilerini içeren giriş DataFrame'i.\n",
    "\n",
    "Döndürür:\n",
    "- tuple: İki öğe içeren bir tuple:\n",
    "   1. X (numpy.array): \"Konu:\" öneki kaldırıldıktan sonra e-posta içeriğini içeren bir dizi.\n",
    "   2. Y (numpy.array): Her e-postanın spam (1) veya ham (0) olup olmadığını gösteren bir dizi.\n",
    "\n",
    "İşlev, eğitim/test bölmelerinde önyargılı sonuçları önlemek için giriş DataFrame'ini karıştırır.\n",
    "Daha sonra e-posta içeriğini ve spam etiketlerini çıkarır ve her e-postadan \"Konu:\" önekini kaldırır.\n",
    "\n",
    "\"\"\"\n",
    "    # Veri setini karıştırır\n",
    "    df = df.sample(frac = 1, ignore_index = True, random_state = 42)\n",
    "    # Her e-postanın ilk 9 karakterini içeren \"Konu:\" dizesini kaldırır. Ayrıca, bunu bir numpy dizisine dönüştürün.\n",
    "    X = df.text.apply(lambda x: x[9:]).to_numpy()\n",
    "    # Etiketleri numpy dizisine dönüştür\n",
    "    Y = df.spam.to_numpy()\n",
    "    return X, Y"
   ]
  },
  {
   "cell_type": "code",
   "execution_count": 7,
   "metadata": {},
   "outputs": [],
   "source": [
    "X, Y = preprocess_emails(dataframe_emails)"
   ]
  },
  {
   "cell_type": "markdown",
   "metadata": {},
   "source": [
    "İlk $5$ e-postayı yazdıralım:"
   ]
  },
  {
   "cell_type": "code",
   "execution_count": 8,
   "metadata": {},
   "outputs": [
    {
     "name": "stdout",
     "output_type": "stream",
     "text": [
      "['re : energy derivatives conference - may 29 , toronto  good morning amy :  vince kaminski will need the following :  an lcd projector to hook up to a lap tap for his presentation  he will have dinner with the conference organizers and speakers on the 29 th .  he will need 2 nights ( the 28 th and the 29 th ) hotel reservations .  he will send you an abstract shortly .  thanks and have a great day !  shirley crenshaw  713 - 853 - 5290  amy aldous on 03 / 31 / 2000 10 : 50 : 11 am  to : shirley . crenshaw @ enron . com  cc :  subject : re : energy derivatives conference - may 29 , toronto  ms . crenshaw ,  thank you for sending the bio so quickly . it \\' s exactly what i was looking  for .  we are planning to compile the conference speakers \\' papers for distribution  to the participants . while i will not need dr . kaminski \\' s contribution for  several weeks , an abstract of his presentation as soon as possible would be  very useful to the conference organizers .  i will also need the following information :  - dr . kaminski \\' s audio / video equipment requirements for his presentation  - will he be joining the conference organizers and speakers for dinner on  may 29 ?  - which nights will he be staying in toronto ? i will reserve a room at the  conference hotel  - any dietary restrictions or special requests  your help is much appreciated .  best wishes ,  amy  at 11 : 50 am 3 / 30 / 00 - 0600 , you wrote :  >  > amy :  >  > attached please find a short \" bio \" for dr . kaminski . please let me know  > if i can help further .  >  >  > ( see attached file : vincent kaminski bio . doc )  * * * * * * * * * * * * * * * * * * * * * * * * * * * * * * * * * * * * * *  amy aldous , conference co - ordinator  centre for advanced studies in finance  university of waterloo  waterloo , on n 2 l 3 gl  tel : ( 519 ) 888 - 4567 ext . 5728  fax : ( 519 ) 888 - 7562  email : aaldous @ uwaterloo . ca  * * * * * * * * * * * * * * * * * * * * * * * * * * * * * * * * * * * * * *'\n",
      " 'financial maths course , part 2  vince ,  just in case , here is a draft copy of the event for you to refer to .  paul  - finmathmail . doc'\n",
      " 're : bullet points  please respond to hi vince ,  thanks for the bullets . regarding power 2001 , it certainly does promise to  be a very interesting event .  have a great week ,  paul  - - - - - original message - - - - -  from : vince . j . kaminski @ enron . com [ mailto : vince . j . kaminski @ enron . com ]  sent : monday , april 09 , 2001 9 : 11 am  to : pbristow @ riskwaters . com  cc : vince . j . kaminski @ enron . com ; vkaminski @ aol . com  subject : bullet points  paul ,  i am sending you modified bullet points . the modifications are in red .  apologies for a delay in responding to your messages .  by the way , power 2001 gets only more and more interesting every day .  vince  ( see attached file : financial maths draft . doc )'\n",
      " 're : enron default swaps  darrell ,  i am sending you 2 technical notes on enron default swaps : i hope that they  will  be useful . i shall read the articles on weekend . i am curious if you  find these explanations satisfactory .  we are very slow in preparing a number of technical documents  for you for model reviews . we still hope you will be able  to find some time to review our credit models ( for our london  credit trading ) and var and option pricing related models .  also , please check your invoices . i still think we owe you money .  vince  darrell duffie on 03 / 28 / 2001 08 : 07 : 38 am  to : vince j kaminski  cc :  subject : re : enron default swaps  vince : according to a bank of america  publication , your ( enron ) default swap spreads  are consistently trading about 80  basis points wider than your asset swaps .  any idea of what is going on here ?  thanks for any guidance , darrell  darrell duffie  mail gsb stanford ca 94305 - 5015 usa  phone 650 723 1976  fax 650 725 7979  email duffie @ stanford . edu  web http : / / www . stanford . edu / ~ duffie / '\n",
      " 're : power question  steve ,  elena chilkina can give you historical data .  historical fwd curves can be obtained from paulo  or alex , among others . of course , our internal forward curves  represent a very sensitive information .  vince  steven leppard  10 / 13 / 2000 10 : 34 am  to : vince j kaminski / hou / ect @ ect  cc : didier magne / lon / ect @ ect  subject : power question  hi vince  who should i contact for power queries now grant has gone ? a colleague here  in london ( didier magne ) is giving a talk on power / gas arbitrage , and the  consequent convergence of these markets .  do you have any presentations on this area , or illustrative figures on the  increase in power / gas correlation ?  many thanks ,  steve']\n"
     ]
    }
   ],
   "source": [
    "print(X[:5])"
   ]
  },
  {
   "cell_type": "markdown",
   "metadata": {},
   "source": [
    "Ve ilk $5$ etiket:"
   ]
  },
  {
   "cell_type": "code",
   "execution_count": 9,
   "metadata": {},
   "outputs": [
    {
     "name": "stdout",
     "output_type": "stream",
     "text": [
      "[0 0 0 0 0]\n"
     ]
    }
   ],
   "source": [
    "print(Y[:5])"
   ]
  },
  {
   "cell_type": "markdown",
   "metadata": {},
   "source": [
    "Numpy dizisi `X`'in bir dize dizisi olduğunu unutmayın, bu nedenle bu dizideki her öğe bir e-postadır ve bu dizideki aynı dizin, e-postanın spam olup olmadığını söyleyen `Y`'deki dizindir. Çeşitli e-postaların metnini ve spam olup olmadıklarını görmek için **`email_index`**'teki değeri değiştirmeyi deneyin. 0'ın ham, 1'in ise spam anlamına geldiğini unutmayın."
   ]
  },
  {
   "cell_type": "code",
   "execution_count": 10,
   "metadata": {},
   "outputs": [
    {
     "name": "stdout",
     "output_type": "stream",
     "text": [
      "E-posta dizini 30: karthik rajan - interview schedule  attached you will find the interview packet for the above - referenced person .  the interview will happen friday , march 30 , 2001 . please print all three  documents for your hard copies . if you have any questions , or conflicts of  schedule , please do not hesitate to contact me .  sasha divelbiss  58714\n",
      "\n",
      "\n",
      "Sınıf: 0\n"
     ]
    }
   ],
   "source": [
    "email_index = 30\n",
    "print(f\"E-posta dizini {email_index}: {X[email_index]}\\n\\n\")\n",
    "print(f\"Sınıf: {Y[email_index]}\")"
   ]
  },
  {
   "cell_type": "markdown",
   "metadata": {},
   "source": [
    "<a name=\"3.3\"></a>\n",
    "### 3.3 Metnin ön işlenmesi\n",
    "\n",
    "Bu bölüm derslerde ele alınmamıştır ve içinde notlandırılmış bir işlev yoktur. Ancak, metinle uğraşırken önemlidir ve bunu öğrenmek Makine Öğrenimi ve Veri Bilimi yolculuğunuzda kesinlikle yardımcı olacaktır!\n",
    "\n",
    "Metinde, genellikle metnin ne söylediği hakkında fazla bilgi sağlamayan bazı kelimeler vardır, örneğin edatlar, zamirler vb. Bunlara **durdurma sözcükleri** denir. Her metinde çok yaygın oldukları için, görevimiz için anlamlı bir bilgi depolamaları neredeyse imkansızdır. Amaç, tüm bu durdurma sözcüklerini ve noktalama işaretlerini kaldırmaktır, böylece sonunda başa çıkmanız gereken daha basit bir kelime kümesine sahip olursunuz. Bir sonraki işlevin yapacağı şey budur.\n",
    "\n",
    "Bir diğer adım e-postaların **tokenizasyonu**'dur. Tokenizasyon, e-postayı **tokenlara** bölmektir, bunlar esasen içindeki kelimelerdir. Sonuç olarak her e-posta için nihai sonuç, durdurma sözcükleri ve noktalama işaretleri olmaksızın e-postadaki tüm kelimelerden oluşan bir numpy dizisi olacaktır."
   ]
  },
  {
   "cell_type": "code",
   "execution_count": 11,
   "metadata": {},
   "outputs": [],
   "source": [
    "from sklearn.feature_extraction.text import ENGLISH_STOP_WORDS\n",
    "import re\n",
    "def preprocess_text(X):\n",
    "    \"\"\"\n",
    "    Durdurma sözcüklerini ve noktalama işaretlerini kaldırarak bir metin verisi koleksiyonunu önceden işler.\n",
    " \n",
    "    Parametreler:\n",
    "    - X (str veya dizi benzeri): İşlenecek giriş metin verisi. Tek bir dize sağlanırsa,\n",
    "    tek öğeli bir numpy dizisine dönüştürülür.\n",
    "\n",
    "    Döndürür:\n",
    "    - numpy.array: Her bir öğenin durdurma sözcükleri ve noktalama işaretleri kaldırılmış bir belgeyi temsil ettiği, önceden işlenmiş metin verisi dizisi.\n",
    " \n",
    "    Not:\n",
    "    - İşlev, belirteçleme ve durdurma sözcüğü kaldırma için Doğal Dil Araç Takımı (nltk) kitaplığını kullanır.\n",
    "    - Giriş tek bir dizeyse, tek öğeli bir numpy dizisine dönüştürülür.\n",
    "    \"\"\"\n",
    "    # Durdurma sözcükleri ve noktalama işaretleriyle bir set oluşturun\n",
    "    stop = set(stopwords.words('english') + list(string.punctuation))\n",
    "\n",
    "    # Bir sonraki satırlar, bir dizi e-posta yerine tek bir e-postanın iletildiği durumu ele alacaktır.\n",
    "    if isinstance(X, str):\n",
    "        X = np.array([X])\n",
    "\n",
    "    # Sonuç bir listede saklanacaktır\n",
    "    X_preprocessed = []\n",
    "\n",
    "    for email in X:\n",
    "        words = re.findall(r'\\b\\w+\\b', email.lower())  # Noktalama işaretlerini temizle\n",
    "        filtered_words = [word for word in words if word not in ENGLISH_STOP_WORDS]\n",
    "        X_preprocessed.append(filtered_words)\n",
    "    \n",
    "    return X_preprocessed if len(X) > 1 else X_preprocessed[0]\n",
    "\n",
    "        \n",
    "        "
   ]
  },
  {
   "cell_type": "code",
   "execution_count": 12,
   "metadata": {},
   "outputs": [],
   "source": [
    "X_treated = preprocess_text(X)"
   ]
  },
  {
   "cell_type": "markdown",
   "metadata": {},
   "source": [
    "Ön işlemeden sonra, her e-postanın metni tüm durdurma sözcükleri kaldırılmış bir numpy dizisine dönüştürüldü. Buradaki örnek, rastgele seçilen bir `email_index` değerinin (bu durumda 989) bu işleme adımından önce ve sonra nasıl göründüğünü gösterir. Bu adımın farklı e-postalardaki sonuçlarını görmek için farklı değerleri denemekten çekinmeyin. Her e-posta için bu temizlenmiş sözcük dizisi, algoritma tarafından gerçekte kullanılan şey olacaktır."
   ]
  },
  {
   "cell_type": "code",
   "execution_count": 13,
   "metadata": {},
   "outputs": [
    {
     "name": "stdout",
     "output_type": "stream",
     "text": [
      "Ön işlemeden önce e-posta: marketing for your espeak session  vince :  thanks for your time earlier this week ; i ' m looking forward to your espeak  event .  sarah and i met with our etv contact yesterday , and we will be able to put a  bulleted list on the elevator screens to advertise your espeak . please let  me know what you would like us to post for you , and we will do the rest !  we also have plans to market specifically to the trader community here at  enron , so you should get a high participation rate , especially from those  groups .  thanks , again .  - er\n",
      "Ön işlemeden sonra e-posta: ['marketing', 'espeak', 'session', 'vince', 'thanks', 'time', 'earlier', 'week', 'm', 'looking', 'forward', 'espeak', 'event', 'sarah', 'met', 'etv', 'contact', 'yesterday', 'able', 'bulleted', 'list', 'elevator', 'screens', 'advertise', 'espeak', 'let', 'know', 'like', 'post', 'rest', 'plans', 'market', 'specifically', 'trader', 'community', 'enron', 'high', 'participation', 'rate', 'especially', 'groups', 'thanks', 'er']\n"
     ]
    }
   ],
   "source": [
    "email_index = 989\n",
    "print(f\"Ön işlemeden önce e-posta: {X[email_index]}\")\n",
    "print(f\"Ön işlemeden sonra e-posta: {X_treated[email_index]}\")"
   ]
  },
  {
   "cell_type": "markdown",
   "metadata": {},
   "source": [
    "<a name=\"3.4\"></a>\n",
    "### 3.4 Eğitim/test olarak ayırma\n",
    "\n",
    "Şimdi veri setimizi eğitim ve test setlerine ayıralım. %80/20 oranında çalışacaksınız, yani verilerin %80'i eğitim için, %20'si ise test için kullanılacak."
   ]
  },
  {
   "cell_type": "code",
   "execution_count": 14,
   "metadata": {},
   "outputs": [],
   "source": [
    "TRAIN_SIZE = int(0.80*len(X_treated)) # Örneklerin %80’i eğitim için kullanılacak.\n",
    "\n",
    "X_train = X_treated[:TRAIN_SIZE]\n",
    "Y_train = Y[:TRAIN_SIZE]\n",
    "X_test = X_treated[TRAIN_SIZE:]\n",
    "Y_test = Y[TRAIN_SIZE:]"
   ]
  },
  {
   "cell_type": "markdown",
   "metadata": {},
   "source": [
    "E-postaların yaklaşık %24'ünün spam olduğunu unutmayın. Bu oranın eğitim ve test veri kümelerinde aşağı yukarı aynı kalıp kalmadığını kontrol etmek önemlidir, aksi takdirde önyargılı bir algoritma oluşturabilirsiniz."
   ]
  },
  {
   "cell_type": "code",
   "execution_count": 15,
   "metadata": {},
   "outputs": [
    {
     "name": "stdout",
     "output_type": "stream",
     "text": [
      "eğitim veri kümesindeki spam oranı: 0.2431\n",
      "test veri kümesindeki spam oranı: 0.2216\n"
     ]
    }
   ],
   "source": [
    "print(f\"eğitim veri kümesindeki spam oranı: {sum(Y_train == 1)/len(Y_train):.4f}\")\n",
    "print(f\"test veri kümesindeki spam oranı: {sum(Y_test == 1)/len(Y_test):.4f}\")"
   ]
  },
  {
   "cell_type": "markdown",
   "metadata": {},
   "source": [
    "Eşit değiller ama çok yakınlar, o yüzden sorun yok!"
   ]
  },
  {
   "cell_type": "markdown",
   "metadata": {},
   "source": [
    "<a name=\"4\"></a>\n",
    "## 4 - Naive Bayes Algoritmasını Uygulama\n",
    "\n",
    "Görevinizi hatırlayın: Hangisinin daha büyük olduğuna karar vermek için $P(\\text{spam} \\mid \\text{email})$ ve $P(\\text{ham} \\mid \\text{email})$ değerlerini karşılaştırın. Karşılaştırmayı yapmak için yalnızca $P(\\text{spam}) \\cdot P(\\text{email} \\mid \\text{spam})$ ve $P(\\text{ham}) \\cdot P(\\text{email} \\mid \\text{ham})$ değerlerini hesaplamak yeterlidir.\n",
    "\n",
    "<a name=\"4.1\"></a>\n",
    "### 4.1 $P(\\text{email} \\mid \\text{spam})$ ve $P(\\text{email} \\mid \\text{ham})$ değerlerini hesaplama\n",
    "\n",
    "Her iki durum da aynı şekilde çalışır, bu yüzden spam durumuna başlayalım.\n",
    "\n",
    "Her e-posta bir kelime listesidir. Amacınız, e-postanın spam olduğu varsayıldığında, bu kelime listesini görme olasılığınızı hesaplamaktır. Bunu yapmanın yolu, ürün kuralını uygulamaktır. Bir e-postayı $\\text{email} = \\{\\text{word}_1, \\text{word}_2, \\ldots, \\text{word}_n \\}$ olarak temsil ederek, hesaplama şu şekildedir:\n",
    "\n",
    "$$P(\\text{email} \\mid \\text{spam}) = P(\\text{word}_1 \\mid \\text{spam}) \\cdot P(\\text{word}_2 \\mid \\text{spam}) \\cdots P(\\text{word}_n \\mid \\text{spam})$$\n",
    "\n",
    "Burada, \"Naive Bayes\" ismine yol açan **naif varsayımı** yaparsınız! Her bir kelimenin bir e-postada görünme olasılığının diğer her bir kelimenin olasılığından bağımsız olduğunu varsayarsınız. Bu varsayım elbette yanlıştır. \"Party\" kelimesini içeren e-postaların \"invitation\" kelimesini içerme olasılığı daha yüksektir. \"Prize\" kelimesini içeren e-postaların \"tebrikler\" kelimesini içerme olasılığı daha yüksektir. Ancak bu olasılıkların bağımsız olduğu yönünde yanlış bir varsayımda bulunarak, çarpım kuralını uygulama yeteneği kazanırsınız. Kelimeler arasındaki karmaşık bir koşullu olasılık kümesini hesaba katmak yerine, basitçe bağımsızlığı varsayabilir ve yukarıdaki ifadede gösterildiği gibi oldukça basit bir koşullu olasılık kümesini çarpabilirsiniz. Naive Bayes, verileriniz hakkında yanlış bir varsayım üzerine kuruludur, ancak göreceğiniz gibi, genellikle etkileyici sonuçlar verir!\n",
    "\n",
    "İşte spam olduğu göz önüne alındığında, bir e-postada $\\text{word}_1$ görünme olasılığını hesaplamanın yolu:\n",
    "\n",
    "$$P(\\text{word}_1 \\mid \\text{spam}) = \\frac{\\text{\\# spam e-postalar } \\text{word}_1}{\\text{\\# spam e-postalar}}$$\n",
    "\n",
    "Burada \\# sembolü öğe sayısını ifade eder, yani $\\text{\\# spam e-postalar } \\text{word}_1$ $\\text{word}_1$ içeren spam e-postaların miktarını ifade eder.\n",
    "\n",
    "Bu aslında çok basit bir hesaplamadır. Kaç tane spam e-postanın $\\text{word}_1$ içerdiğini sayın ve toplam spam e-posta sayısına bölün. Veri kümesindeki her kelimeyi yineleyin ve işlemi tekrarlayın, böylece spam veya amatör olduğu göz önüne alındığında, belirli bir e-postayı görmenin genel olasılığını hesaplamaya hazırsınız. Bunu akılda tutarak, **ilk göreviniz, veri kümesindeki her kelimenin ham ve spam e-postalarında görünme sıklığını depolamak için `word_frequency` adlı bir sözlük oluşturmak olacaktır**\n",
    "\n",
    "#### 4.1.1 Üründe 0'ı İşleme\n",
    "\n",
    "Yalnızca spam e-postalarında görünen veya hiçbir zaman spam e-postasında görünmeyen bir kelimeyle karşılaşmak, $P(\\text{word} \\mid \\text{spam}) = 0$ (veya ham benzeri) ile sonuçlanabilir ve tüm ürünün $0$ olmasına yol açabilir. Bu senaryo istenmeyen bir durumdur çünkü tek bir kelime tüm olasılığı $0$ yapabilir. Bunu hafifletmek için, **1'den itibaren her kelime için spam/ham görünümlerini sayarak başlayacaksınız**. Her kelimeyle birlikte en az bir spam ve bir ham e-postası olduğunu yapay olarak varsayarak, hesaplamalarda $0$ görünme olasılığını ortadan kaldırırsınız.\n",
    "\n",
    "<a name=\"4.2\"></a>\n",
    "### 4.2 $P(\\text{spam})$ ve $P(\\text{ham})$'ı hesaplama\n",
    "\n",
    "Bayes Teoremi'ni kullanırken, ham ve spam e-postaları görmenin genel olasılığını da eklemeniz gerekir. Bu hesaplama oldukça kolaydır çünkü bunlar yalnızca veri kümesindeki spam ve ham e-postalarının oranıdır.\n",
    "\n",
    "$$P(\\text{spam}) = \\frac{\\text{\\# spam e-postaları}}{\\text{\\# toplam e-postalar}}$$\n",
    "$$P(\\text{ham}) = \\frac{\\text{\\# ham e-postaları}}{\\text{\\# toplam e-postalar}}$$\n",
    "\n",
    "<a name=\"4.3\"></a>\n",
    "### 4.3 Hepsini bir araya getirme\n",
    "\n",
    "Bir e-postanın spam veya ham olma olasılığını hesaplamak için, daha önce hesapladığınız terimleri çarpmanız ve hangisinin daha büyük olduğunu karşılaştırmanız yeterlidir.\n",
    "\n",
    "- $P(\\text{spam}) \\cdot P(\\text{e-posta} \\mid \\text{spam})$\n",
    "- $P(\\text{ham}) \\cdot P(\\text{e-posta} \\mid \\text{ham})$"
   ]
  },
  {
   "cell_type": "markdown",
   "metadata": {},
   "source": [
    "<a name=\"ex01\"></a>\n",
    "### Alıştırma 1\n",
    "\n",
    "Göreviniz, veri kümesindeki her bir kelimenin spam (1) veya ham (0) olarak görünme sıklığını kaydeden bir sözlük üreten işlevi uygulamaktır."
   ]
  },
  {
   "cell_type": "code",
   "execution_count": 16,
   "metadata": {
    "tags": [
     "graded"
    ]
   },
   "outputs": [],
   "source": [
    "def get_word_frequency(X, Y):\n",
    "    \"\"\"\n",
    "    Spam (1) veya spam değil (0) olarak kategorilendirilen bir e-posta kümesindeki her bir kelimenin sıklığını hesaplayın.\n",
    "    \n",
    "    Parametreler:\n",
    "    - X (numpy.array): Her e-postanın bir kelime listesi olarak temsil edildiği e-posta dizisi.\n",
    "    - Y (numpy.array): X'teki her e-postaya karşılık gelen etiket dizisi. 1 spam'i, 0 ise jambon'u belirtir.\n",
    "    \n",
    "    Dönüşler:\n",
    "    - word_dict (sözlük): Anahtarların e-postalarda bulunan benzersiz kelimeler olduğu ve değerlerin spam (1) ve spam değil (0) e-postalar için her bir kelimenin sıklığını içeren sözlükler olduğu bir sözlük.\n",
    "    \"\"\"\n",
    "    # Boş bir sözlük oluşturun\n",
    "    word_dict = {}\n",
    "        \n",
    "    # Tüm benzersiz kelimeleri topla\n",
    "    all_words = set()\n",
    "    for email in X:\n",
    "        for word in email:\n",
    "            all_words.add(word)\n",
    "    \n",
    "    # Her kelime için başlangıç değerleri oluştur\n",
    "    # 4.1.1'e göre, her kelime için ham ve spam sayımlarını 1'den başlatıyoruz\n",
    "    for word in all_words:\n",
    "        word_dict[word] = {\"spam\": 1, \"ham\": 1}\n",
    "    \n",
    "    # E-posta ve sınıflarına göre kelime sayımlarını güncelle\n",
    "    for i in range(len(X)):\n",
    "        email = X[i]\n",
    "        cls = Y[i]\n",
    "        \n",
    "        # Her kelimeyi sadece bir kez say (e-postada geçiyorsa)\n",
    "        unique_words = set(email)\n",
    "        for word in unique_words:\n",
    "            if cls == 1:  # Spam\n",
    "                word_dict[word][\"spam\"] += 1\n",
    "            else:  # Ham\n",
    "                word_dict[word][\"ham\"] += 1\n",
    "    \n",
    "    return word_dict"
   ]
  },
  {
   "cell_type": "code",
   "execution_count": 17,
   "metadata": {},
   "outputs": [
    {
     "name": "stdout",
     "output_type": "stream",
     "text": [
      "{'like': {'spam': 2, 'ham': 1}, 'river': {'spam': 2, 'ham': 3}, 'hate': {'spam': 1, 'ham': 2}, 'deep': {'spam': 1, 'ham': 2}, 'love': {'spam': 1, 'ham': 2}, 'going': {'spam': 2, 'ham': 1}}\n"
     ]
    }
   ],
   "source": [
    "test_output = get_word_frequency([['like','going','river'], ['love', 'deep', 'river'], ['hate','river']], [1,0,0])\n",
    "print(test_output)"
   ]
  },
  {
   "cell_type": "markdown",
   "metadata": {},
   "source": [
    "##### __Beklenen Çıktı__ (çıktı sırası değişebilir, önemli olan her kelime için değerlerdir)\n",
    "\n",
    "```Python\n",
    "{'going': {'spam': 2, 'ham': 1}, 'river': {'spam': 2, 'ham': 3}, 'like': {'spam': 2, 'ham': 1}, 'deep': {'spam': 1, 'ham': 2}, 'love': {'spam': 1, 'ham': 2}, 'hate': {'spam': 1, 'ham': 2}}\n",
    "```"
   ]
  },
  {
   "cell_type": "markdown",
   "metadata": {},
   "source": [
    "Bir sonraki kod bloğu fonksiyonunuzu test edecektir. Bu sadece fonksiyonunuzun düzgün çalıştığından emin olmanızı sağlayacaktır. Birim testi başarısız olursa, bir sonraki egzersize geçmeden önce fonksiyonunuzu gözden geçirebilmeniz için geri bildirim alacaksınız."
   ]
  },
  {
   "cell_type": "code",
   "execution_count": 25,
   "metadata": {},
   "outputs": [
    {
     "name": "stdout",
     "output_type": "stream",
     "text": [
      "\u001b[92m All tests passed\n"
     ]
    }
   ],
   "source": [
    "w1_unittest.test_get_word_frequency(get_word_frequency)"
   ]
  },
  {
   "cell_type": "code",
   "execution_count": 18,
   "metadata": {
    "tags": []
   },
   "outputs": [],
   "source": [
    "word_frequency = get_word_frequency(X_train,Y_train)"
   ]
  },
  {
   "cell_type": "markdown",
   "metadata": {},
   "source": [
    "Ayrıca bir sınıf sıklığı sözlüğüne ihtiyacınız olacak. Bu, veri kümesindeki toplam ham (0) ve spam (1) e-posta sayısını depolayacaktır. Aşağıdaki kod satırı bunu sizin için oluşturacaktır."
   ]
  },
  {
   "cell_type": "code",
   "execution_count": 19,
   "metadata": {
    "tags": []
   },
   "outputs": [],
   "source": [
    "# Spam ve ham e-postalarını saymak için, eğitim veri setindeki ilgili 1 ve 0 değerlerini toplayabilirsiniz; çünkü kural spam = 1 ve ham = 0'dır.\n",
    "class_frequency = {'ham': sum(Y_train == 0), 'spam': sum(Y_train == 1)}"
   ]
  },
  {
   "cell_type": "code",
   "execution_count": 20,
   "metadata": {},
   "outputs": [
    {
     "name": "stdout",
     "output_type": "stream",
     "text": [
      "{'ham': np.int64(3468), 'spam': np.int64(1114)}\n"
     ]
    }
   ],
   "source": [
    "print(class_frequency)"
   ]
  },
  {
   "cell_type": "markdown",
   "metadata": {},
   "source": [
    "Eğitim veri setindeki spam oranını almak için şunları yapabilirsiniz:"
   ]
  },
  {
   "cell_type": "code",
   "execution_count": 21,
   "metadata": {},
   "outputs": [
    {
     "name": "stdout",
     "output_type": "stream",
     "text": [
      "Eğitimde spam e-postaların oranı: 0.2431\n"
     ]
    }
   ],
   "source": [
    "# Fikir, (spam e-postalarının miktarı)/(toplam e-postalar) hesaplamaktır.\n",
    "# Bir e-posta spam veya ham olduğundan, toplam e-postalar = (ham e-postalarının miktarı) + (spam e-postalarının miktarı).\n",
    "proportion_spam = class_frequency['spam']/(class_frequency['ham'] + class_frequency['spam'])\n",
    "print(f\"Eğitimde spam e-postaların oranı: {proportion_spam:.4f}\")"
   ]
  },
  {
   "cell_type": "markdown",
   "metadata": {},
   "source": [
    "Dikkat edin, bu aşağıdaki hücrelerde elde ettiğiniz değerle uyuşuyor!"
   ]
  },
  {
   "cell_type": "markdown",
   "metadata": {},
   "source": [
    "<a name=\"ex02\"></a>\n",
    "### Alıştırma 2\n",
    "\n",
    "Bir sonraki alıştırmada, $P(\\text{word} \\mid \\text{spam})$ ve $P(\\text{word} \\mid \\text{ham})$'ı hesaplamak için fonksiyonu uygulayacaksınız. Her iki e-posta türü için de hesaplamalar aynı olduğundan, sınıfın spam ($1$) veya (ham) $0$ olabileceği $P(\\text{word} \\mid \\text{class})$'ı hesaplamak için bir fonksiyon oluşturacaksınız.\n",
    "\n",
    "Şunu unutmayın\n",
    "\n",
    "$$P(\\text{word}_i \\mid \\text{class}) = \\frac{\\text{\\# sınıftaki e-postalar (spam veya ham) } \\text{word}_i}{\\text{\\# verilen sınıftaki e-postalar (spam veya ham)}}$$\n",
    "\n",
    "**Şimdilik bir kelimenin sözlükte olup olmadığı konusunda endişelenmeyeceğinizi unutmayın. Bu, daha sonraki fonksiyonlarda ele alınacaktır.**"
   ]
  },
  {
   "cell_type": "code",
   "execution_count": 22,
   "metadata": {
    "tags": [
     "graded"
    ]
   },
   "outputs": [],
   "source": [
    "\n",
    "\n",
    "def prob_word_given_class(word, cls, word_frequency, class_frequency):\n",
    "    \"\"\"\n",
    "    Belirli bir kelimenin belirli bir sınıfta (spam veya ham) ortaya çıkma olasılığını hesaplar.\n",
    "\n",
    "    Parametreler:\n",
    "    - word (str): Olasılığı hesaplanacak kelime.\n",
    "    - cls (str): \"spam\" veya \"ham\" sınıfı.\n",
    "    - word_frequency (dict): Kelimelerin belirli sınıflarda kaç kez geçtiğini içeren sözlük.\n",
    "    - class_frequency (dict): Her sınıftaki toplam e-posta sayısını içeren sözlük.\n",
    "\n",
    "    Dönüş:\n",
    "    - float: Kelimenin belirli bir sınıfta geçme olasılığı.\n",
    "    \"\"\"\n",
    "    amount_word_and_class = word_frequency.get(word, {}).get(cls, 0)  # Kelime ve sınıf var mı diye kontrol et\n",
    "    total_class_emails = class_frequency.get(cls, 1)  # Sınıf sayısını al, yoksa 1 döndür\n",
    "    \n",
    "    return amount_word_and_class / total_class_emails"
   ]
  },
  {
   "cell_type": "code",
   "execution_count": 23,
   "metadata": {},
   "outputs": [
    {
     "name": "stdout",
     "output_type": "stream",
     "text": [
      "P(lottery | spam) = 0.00807899461400359\n",
      "P(lottery | ham) = 0.0002883506343713956\n",
      "P(schedule | spam) = 0.008976660682226212\n",
      "P(schedule | ham) = 0.10294117647058823\n"
     ]
    }
   ],
   "source": [
    "print(f\"P(lottery | spam) = {prob_word_given_class('lottery', cls = 'spam', word_frequency = word_frequency, class_frequency = class_frequency)}\")\n",
    "print(f\"P(lottery | ham) = {prob_word_given_class('lottery', cls = 'ham', word_frequency = word_frequency, class_frequency = class_frequency)}\")\n",
    "print(f\"P(schedule | spam) = {prob_word_given_class('schedule', cls = 'spam', word_frequency = word_frequency, class_frequency = class_frequency)}\")\n",
    "print(f\"P(schedule | ham) = {prob_word_given_class('schedule', cls = 'ham', word_frequency = word_frequency, class_frequency = class_frequency)}\")"
   ]
  },
  {
   "cell_type": "markdown",
   "metadata": {},
   "source": [
    "##### __Beklenen Çıktı__ (sonuçlar son ondalık basamaklarda değişiklik gösterebilir)\n",
    "\n",
    "```Python\n",
    "P(piyango | spam) = 0.00807899461400359\n",
    "P(piyango | ham) = 0.0002883506343713956\n",
    "P(zamanlama | spam) = 0.008976660682226212\n",
    "P(zamanlama | ham) = 0.10294117647058823\n",
    "```"
   ]
  },
  {
   "cell_type": "markdown",
   "metadata": {},
   "source": [
    "<a name=\"ex03\"></a>\n",
    "### Alıştırma 3\n",
    "\n",
    "Bir sonraki alıştırmada, sınıfın spam (1) veya ham (0) olabileceği $P(\\text{email} \\mid \\text{class})$ değerini hesaplamak için işlevi uygulayacaksınız. Şu *saf varsayımı* kullanacaksınız:\n",
    "\n",
    "$$P(\\text{email} \\mid \\text{class}) = P(\\text{word}_1 \\mid \\text{class}) \\cdot P(\\text{word}_2 \\mid \\text{class}) \\cdots P(\\text{word}_n \\mid \\text{class})$$\n",
    "\n",
    "Fikir, e-postadaki her kelime üzerinde yineleme yapmak ve her adımda, $P(\\text{word} \\mid \\text{class})$ değeriyle çarparak olasılığı güncellemektir.\n",
    "\n",
    "Python'da değerleri güncellemek için `value = value * update` kullanmak yerine, sadece `value *= update` kullanabileceğinizi unutmayın. Aynı hesaplamayı yapıyorlar."
   ]
  },
  {
   "cell_type": "code",
   "execution_count": 28,
   "metadata": {
    "tags": [
     "graded"
    ]
   },
   "outputs": [],
   "source": [
    "def prob_email_given_class(treated_email, cls, word_frequency, class_frequency):\n",
    "    \"\"\"\n",
    "      İşlenmiş e-posta içeriğine göre bir e-postanın belirli bir sınıftan (örneğin spam veya ham) olma olasılığını hesaplayın.\n",
    "\n",
    "      Parametreler:\n",
    "      - treated_email (liste): E-postadaki işlenmiş kelimelerin listesi.\n",
    "      - cls (str): E-postanın sınıf etiketi. 'spam' veya 'ham' olabilir.\n",
    "      - word_frequency (sözlük): Frekans kelimelerini içeren sözlük.\n",
    "      - class_frequency (sözlük): Frekans sınıfını içeren sözlük.\n",
    "\n",
    "      Döndürür:\n",
    "      - float: Belirtilen e-postanın belirtilen sınıfa ait olma olasılığı.\n",
    "    \"\"\"\n",
    "    # prob 1'den başlar çünkü her yinelemede geçerli P(kelime | sınıf) ile çarpılarak güncellenecektir\n",
    "    prob = 1\n",
    "\n",
    "   \n",
    "    for word in treated_email:\n",
    "        # Hesaplamayı yalnızca kelime sıklığı sözlüğünde bulunan kelimeler için gerçekleştirin\n",
    "        if word in word_frequency.keys():\n",
    "            # Olasılığı P(kelime | sınıf) ile çarparak güncelle\n",
    "            prob *= prob_word_given_class(word, cls, word_frequency, class_frequency)\n",
    "    \n",
    "\n",
    "    return prob\n"
   ]
  },
  {
   "cell_type": "code",
   "execution_count": 29,
   "metadata": {},
   "outputs": [
    {
     "name": "stdout",
     "output_type": "stream",
     "text": [
      "Email: Click here to win a lottery ticket and claim your prize!\n",
      "Email after preprocessing: ['click', 'win', 'lottery', 'ticket', 'claim', 'prize']\n",
      "P(email | spam) = 5.3884806600117164e-11\n",
      "P(email | ham) = 1.2428344868918976e-15\n"
     ]
    }
   ],
   "source": [
    "example_email = \"Click here to win a lottery ticket and claim your prize!\"\n",
    "treated_email = preprocess_text(example_email)\n",
    "prob_spam = prob_email_given_class(treated_email, cls = 'spam', word_frequency = word_frequency, class_frequency = class_frequency)\n",
    "prob_ham = prob_email_given_class(treated_email, cls = 'ham', word_frequency = word_frequency, class_frequency = class_frequency)\n",
    "print(f\"Email: {example_email}\\nEmail after preprocessing: {treated_email}\\nP(email | spam) = {prob_spam}\\nP(email | ham) = {prob_ham}\")"
   ]
  },
  {
   "cell_type": "markdown",
   "metadata": {},
   "source": [
    "##### __Beklenen Çıktı__ (sonuçlar son ondalık basamaklarda değişiklik gösterebilir)\n",
    "\n",
    "```Python\n",
    "E-posta: Bir piyango bileti kazanmak ve ödülünüzü talep etmek için buraya tıklayın!\n",
    "Ön işlemeden sonra e-posta: ['click' 'win' 'lottery' 'ticket' 'claim' 'prize']\n",
    "P(email | spam) = 5.3884806600117164e-11\n",
    "P(email | ham) = 1.2428344868918976e-15\n",
    "```"
   ]
  },
  {
   "cell_type": "markdown",
   "metadata": {},
   "source": [
    "<a name=\"ex04\"></a>\n",
    "### Alıştırma 4\n",
    "\n",
    "Bu alıştırmada, bir e-postanın spam veya ham olma olasılığını hesaplamak için aşağıdaki iki hesaplamayı gerçekleştireceksiniz:\n",
    "\n",
    "- $ P(\\text{spam}) \\cdot P(\\text{email} \\mid \\text{spam}) $\n",
    "\n",
    "- $ P(\\text{ham}) \\cdot P(\\text{email} \\mid \\text{ham})$\n",
    "\n",
    "En büyük değere sahip olan, algoritmanızın o e-postaya atadığı sınıf olacaktır. Aşağıdaki işlevin, seçilen sınıf yerine işleve her iki olasılığı da döndürmesini söyleyen bir parametre içerdiğini unutmayın.\n",
    "\n",
    "**Not**: Çıktının, ilgili e-posta sınıfını belirten bir tam sayı olacağını fark edeceksiniz. E-postanın spam olarak tahmin edilmesi durumunda spam, e-postanın ham olarak tahmin edilmesi durumunda ise ham döndürülmesi mümkün olabilir, ancak modelin bir sayı çıktısı vermesi, model performansını değerlendirmek için metrikler gibi daha fazla hesaplamaya yardımcı olur."
   ]
  },
  {
   "cell_type": "code",
   "execution_count": 31,
   "metadata": {
    "tags": [
     "graded"
    ]
   },
   "outputs": [],
   "source": [
    "def naive_bayes(treated_email, word_frequency, class_frequency, return_likelihood=False):\n",
    "    \"\"\"\n",
    "    Naive Bayes sınıflandırıcısı ile spam tespiti.\n",
    "\n",
    "    Bu fonksiyon, bir e-postanın spam (1) veya ham (0) olma olasılığını\n",
    "    Naive Bayes algoritmasına dayalı olarak hesaplar. Bu, e-postanın spam ve ham olduğuna dair\n",
    "    koşullu olasılıkları ve spam ve ham sınıflarının önsel olasılıklarını kullanır.\n",
    "    Son karar, hesaplanan olasılıkları karşılaştırarak verilir.\n",
    "\n",
    "    Parametreler:\n",
    "    - treated_email (list): Girdi e-postasının önceden işlenmiş hali.\n",
    "    - word_frequency (dict): Kelimelerin frekansını içeren sözlük.\n",
    "    - class_frequency (dict): Sınıf frekanslarını içeren sözlük.\n",
    "        - return_likelihood (bool): Eğer True ise, her iki sınıfın olasılığını döndürür.\n",
    "\n",
    "    Döndürülen Değerler:\n",
    "    Eğer return_likelihood = False ise:\n",
    "        - int: E-posta spam olarak sınıflandırılmışsa 1, ham olarak sınıflandırılmışsa 0 döner.\n",
    "    Eğer return_likelihood = True ise:\n",
    "        - tuple: (spam_likelihood, ham_likelihood) formatında bir tuple döner.\n",
    "    \"\"\"\n",
    "\n",
    "    # P(email | spam) değerini yukarıda tanımladığınız fonksiyonla hesaplayın.\n",
    "    prob_email_given_spam = prob_email_given_class(treated_email, cls='spam', word_frequency=word_frequency, class_frequency=class_frequency)\n",
    "\n",
    "    # P(email | ham) değerini yukarıda tanımladığınız fonksiyonla hesaplayın.\n",
    "    prob_email_given_ham = prob_email_given_class(treated_email, cls='ham', word_frequency=word_frequency, class_frequency=class_frequency)\n",
    "\n",
    "    # P(spam) değerini class_frequency sözlüğünü kullanarak hesaplayın: #spam e-posta / #toplam e-posta\n",
    "    p_spam = class_frequency['spam'] / sum(class_frequency.values())\n",
    "\n",
    "    # P(ham) değerini class_frequency sözlüğünü kullanarak hesaplayın: #ham e-posta / #toplam e-posta\n",
    "    p_ham = class_frequency['ham'] / sum(class_frequency.values())\n",
    "\n",
    "    # P(spam) * P(email | spam) hesaplayın, buna spam_likelihood diyelim\n",
    "    spam_likelihood = p_spam * prob_email_given_spam\n",
    "\n",
    "    # P(ham) * P(email | ham) hesaplayın, buna ham_likelihood diyelim\n",
    "    ham_likelihood = p_ham * prob_email_given_ham\n",
    "\n",
    "    # return_likelihood = True ise, istenen tuple'ı döndürün\n",
    "    if return_likelihood == True:\n",
    "        return (spam_likelihood, ham_likelihood)\n",
    "    \n",
    "    # Her iki değeri karşılaştırın ve daha yüksek olana sahip olan sınıfı seçin\n",
    "    elif spam_likelihood >= ham_likelihood:\n",
    "        return 1  # spam\n",
    "    else:\n",
    "        return 0  # ham\n"
   ]
  },
  {
   "cell_type": "code",
   "execution_count": 32,
   "metadata": {},
   "outputs": [
    {
     "name": "stdout",
     "output_type": "stream",
     "text": [
      "Email: Click here to win a lottery ticket and claim your prize!\n",
      "Email after preprocessing: ['click', 'win', 'lottery', 'ticket', 'claim', 'prize']\n",
      "Naive Bayes predicts this email as: 1\n",
      "\n",
      "\n",
      "\n",
      "Email: Our meeting will happen in the main office. Please be there in time.\n",
      "Email after preprocessing: ['meeting', 'happen', 'main', 'office', 'time']\n",
      "Naive Bayes predicts this email as: 0\n"
     ]
    }
   ],
   "source": [
    "example_email = \"Click here to win a lottery ticket and claim your prize!\"\n",
    "treated_email = preprocess_text(example_email)\n",
    "\n",
    "print(f\"Email: {example_email}\\nEmail after preprocessing: {treated_email}\\nNaive Bayes predicts this email as: {naive_bayes(treated_email, word_frequency, class_frequency)}\")\n",
    "\n",
    "print(\"\\n\\n\")\n",
    "example_email = \"Our meeting will happen in the main office. Please be there in time.\"\n",
    "treated_email = preprocess_text(example_email)\n",
    "\n",
    "print(f\"Email: {example_email}\\nEmail after preprocessing: {treated_email}\\nNaive Bayes predicts this email as: {naive_bayes(treated_email, word_frequency, class_frequency)}\")"
   ]
  },
  {
   "cell_type": "markdown",
   "metadata": {},
   "source": [
    "#### __Beklenen Çıktı__\n",
    "\n",
    "```\n",
    "E-posta: Bir piyango bileti kazanmak ve ödülünüzü talep etmek için buraya tıklayın!\n",
    "Ön işlemeden sonra e-posta: ['tıkla' 'kazan' 'piyango' 'bilet' 'talep et' 'ödül']\n",
    "Naive Bayes bu e-postayı şu şekilde tahmin ediyor: 1\n",
    "\n",
    "E-posta: Toplantımız ana ofiste gerçekleşecek. Lütfen zamanında orada olun.\n",
    "Ön işlemeden sonra e-posta: ['toplantı' 'gerçekleşecek' 'ana' 'ofis' 'lütfen' 'zaman']\n",
    "Naive Bayes bu e-postayı şu şekilde tahmin ediyor: 0\n",
    "```"
   ]
  },
  {
   "cell_type": "markdown",
   "metadata": {},
   "source": [
    "Bir sonraki kod bloğu fonksiyonunuzu test edecektir. Bu sadece fonksiyonunuzun düzgün çalıştığından emin olmanızı sağlayacaktır. Birim testi başarısız olursa, bir sonraki egzersize geçmeden önce fonksiyonunuzu gözden geçirebilmeniz için geri bildirim alacaksınız."
   ]
  },
  {
   "cell_type": "code",
   "execution_count": 33,
   "metadata": {},
   "outputs": [
    {
     "name": "stdout",
     "output_type": "stream",
     "text": [
      "\u001b[92m All tests passed\n"
     ]
    }
   ],
   "source": [
    "w1_unittest.test_naive_bayes(naive_bayes, word_frequency, class_frequency)"
   ]
  },
  {
   "cell_type": "markdown",
   "metadata": {},
   "source": [
    "<a name=\"4.4\"></a>\n",
    "### 4.4 Model performansı\n",
    "\n",
    "Bu bölüm, derslerde gördüklerinizin ötesine geçtiği için notlandırılmış bir bölüm içermez. Ancak, model performansını ölçmek modeller oluştururken çok önemli olduğundan, bunu okumanızı ve ne yapıldığını anlamaya çalışmanızı öneririz.\n",
    "\n",
    "Bu bölümde, az önce oluşturduğunuz modelin performansını keşfedeceksiniz. Modelinizi verilerin %80'i üzerinde eğittiğinizi ve test etmek için verilerinizin %20'sini rastgele test verisi olarak sakladığınızı hatırlayın. O zaman doğal soru, modelin test verilerinizde kullanıldığında ne sıklıkla doğru bir sınıflandırma yaptığıdır. Bu soruyu cevaplamak için [doğruluk](https://en.wikipedia.org/wiki/Accuracy_and_precision) adlı bir ölçüm vardır. Bu, modelin ne kadar doğru tahminde bulunduğunun bir ölçüsüdür.\n",
    "\n",
    "Doğruluğu hesaplamak için şunları yapmalısınız:\n",
    "\n",
    "- Modelin doğru bir şekilde spam olarak sınıflandırdığı her spam e-postayı sayın (bunlara **gerçek pozitifler** denir)\n",
    "- Modelin doğru bir şekilde jambon olarak sınıflandırdığı her jambon e-postasını sayın (bunlara **gerçek negatifler** denir)\n",
    "\n",
    "Son olarak, bir oran elde etmek için gerçek pozitiflerin ve gerçek negatiflerin toplamını toplam gözlem sayısına bölersiniz. Model mükemmelse, doğruluk 1 veya %100 olur. Bir sonraki kod bloğu bu hesaplamayı yapmak için işlevleri uygulayacaktır."
   ]
  },
  {
   "cell_type": "code",
   "execution_count": 37,
   "metadata": {},
   "outputs": [],
   "source": [
    "def get_true_positives(Y_true, Y_pred):\n",
    "    \"\"\"\n",
    "    İkili sınıflandırmada gerçek pozitif örneklerin sayısını hesaplayın.\n",
    "\n",
    "    Parametreler:\n",
    "    - Y_true (liste): Her örnek için gerçek etiketlerin (0 veya 1) listesi.\n",
    "    - Y_pred (liste): Her örnek için tahmin edilen etiketlerin (0 veya 1) listesi.\n",
    "    \n",
    "    Dönüşler:\n",
    "    - int: Gerçek pozitiflerin sayısı, burada gerçek etiket ve tahmin edilen etiket her ikisi de 1'dir.\n",
    "    \"\"\"\n",
    "    # Hem Y_true hem de Y_pred uzunluk olarak eşleşmelidir.\n",
    "    if len(Y_true) != len(Y_pred):\n",
    "        return \"Gerçek etiket sayısı ile tahmini etiket sayısı mutlaka eşleşmelidir!\"\n",
    "    n = len(Y_true)\n",
    "    true_positives = 0\n",
    "    # Listedeki eleman sayısı üzerinde yineleme yap\n",
    "    for i in range(n):\n",
    "        # Dikkate alınan e-posta için gerçek etiketi alın\n",
    "        true_label_i = Y_true[i]\n",
    "        # Dikkate alınan e-posta için öngörülen (model çıktısını) alın\n",
    "        predicted_label_i = Y_pred[i]\n",
    "        # Sayacı yalnızca true_label_i = 1 ve predicted_label_i = 1 (doğru pozitifler) durumunda 1 artırın\n",
    "        if true_label_i == 1 and predicted_label_i == 1:\n",
    "            true_positives += 1\n",
    "    return true_positives\n",
    "        \n",
    "def get_true_negatives(Y_true, Y_pred):\n",
    "    \"\"\"\n",
    "    İkili sınıflandırmada gerçek negatif örneklerin sayısını hesaplayın.\n",
    "\n",
    "    Parametreler:\n",
    "    - Y_true (liste): Her örnek için gerçek etiketlerin (0 veya 1) listesi.\n",
    "    - Y_pred (liste): Her örnek için tahmin edilen etiketlerin (0 veya 1) listesi.\n",
    "    \n",
    "    Dönüşler:\n",
    "    - int: Gerçek negatiflerin sayısı, burada gerçek etiket ve tahmin edilen etiket her ikisi de 0'dır.\n",
    "    \"\"\"\n",
    "    \n",
    "    # Hem Y_true hem de Y_pred uzunluk olarak eşleşmelidir.\n",
    "    if len(Y_true) != len(Y_pred):\n",
    "        return \"Gerçek etiket sayısı ile tahmini etiket sayısı mutlaka eşleşmelidir!\"\n",
    "    n = len(Y_true)\n",
    "    true_negatives = 0\n",
    "    # Listedeki eleman sayısı üzerinde yineleme yap\n",
    "    for i in range(n):\n",
    "        # Dikkate alınan e-posta için gerçek etiketi alın\n",
    "        true_label_i = Y_true[i]\n",
    "        # Dikkate alınan e-posta için öngörülen (model çıktısını) alın\n",
    "        predicted_label_i = Y_pred[i]\n",
    "        # Sayacı yalnızca true_label_i = 0 ve predicted_label_i = 0 (doğru negatifler) durumunda 1 artırın\n",
    "        if true_label_i == 0 and predicted_label_i == 0:\n",
    "            true_negatives += 1\n",
    "    return true_negatives\n",
    "        "
   ]
  },
  {
   "cell_type": "code",
   "execution_count": 38,
   "metadata": {},
   "outputs": [
    {
     "name": "stdout",
     "output_type": "stream",
     "text": [
      "Y_test ve Y_pred eşleşmeleri uzunluk olarak eşitmi? Cevap: True\n"
     ]
    }
   ],
   "source": [
    "# Test seti için tahminleri alalım:\n",
    "\n",
    "# Tahminleri depolamak için boş bir liste oluştur\n",
    "Y_pred = []\n",
    "\n",
    "\n",
    "# Test kümesindeki her e-postayı yineleyin\n",
    "for email in X_test:\n",
    "    # Tahmini gerçekleştir\n",
    "    prediction = naive_bayes(email, word_frequency, class_frequency)\n",
    "    # Listeye ekle\n",
    "    Y_pred.append(prediction)\n",
    "\n",
    "# Y_pred ve Y_test'in (bunlar gerçek etiketlerdir) uzunluklarının eşleşip eşleşmediğini kontrol ediyoruz:\n",
    "print(f\"Y_test ve Y_pred eşleşmeleri uzunluk olarak eşitmi? Cevap: {len(Y_pred) == len(Y_test)}\")"
   ]
  },
  {
   "cell_type": "code",
   "execution_count": 39,
   "metadata": {},
   "outputs": [
    {
     "name": "stdout",
     "output_type": "stream",
     "text": [
      "Gerçek pozitiflerin sayısı: 249\n",
      "Gerçek negatiflerin sayısı: 738\n",
      "Doğruluk: 0.8613\n"
     ]
    }
   ],
   "source": [
    "# Gerçek pozitiflerin sayısını al:\n",
    "true_positives = get_true_positives(Y_test, Y_pred)\n",
    "\n",
    "# Gerçek negatiflerin sayısını al:\n",
    "true_negatives = get_true_negatives(Y_test, Y_pred)\n",
    "\n",
    "print(f\"Gerçek pozitiflerin sayısı: {true_positives}\\nGerçek negatiflerin sayısı: {true_negatives}\")\n",
    "\n",
    "# Doğruluğu, gerçek negatifleri gerçek pozitiflerle toplayıp veri kümesindeki toplam eleman sayısına bölerek hesaplayın.\n",
    "# Hem Y_pred hem de Y_test aynı uzunluğa sahip olduğundan hangisini kullandığınız önemli değildir.\n",
    "accuracy = (true_positives + true_negatives)/len(Y_test)\n",
    "\n",
    "print(f\"Doğruluk: {accuracy:.4f}\")"
   ]
  },
  {
   "cell_type": "markdown",
   "metadata": {},
   "source": [
    "Harika iş! E-postadaki her kelimenin tek başına durduğunu varsayarak sağlam bir Naive Bayes modeli geliştirdiniz. Bu temel yaklaşımla bile, model etkileyici bir şekilde %86,13'lik bir doğruluğa ulaşıyor! Aferin! Şimdi, bir sonraki kod bloğunda, devam edin ve kendi e-postanızı oluşturun. Şimdi bir sonraki kod bloğunda modelinizle deneyler yapabilirsiniz."
   ]
  },
  {
   "cell_type": "code",
   "execution_count": 40,
   "metadata": {},
   "outputs": [
    {
     "name": "stdout",
     "output_type": "stream",
     "text": [
      "The email is: Please meet me in 2 hours in the main building. I have an important task for you.\n",
      "The model predicts it as ham.\n"
     ]
    }
   ],
   "source": [
    "email = \"Please meet me in 2 hours in the main building. I have an important task for you.\"\n",
    "# email = \"Piyango ödülü kazandınız! Tebrikler! Talep etmek için buraya tıkla\"\n",
    "\n",
    "# E-postayı önceden işle\n",
    "treated_email = preprocess_text(email)\n",
    "# Tahmini al, güzel bir şekilde yazdırmak için, çıktı 1 ise tahmin \"spam\", aksi takdirde \"ham\" olarak yazılacak.\n",
    "prediction = \"spam\" if naive_bayes(treated_email, word_frequency, class_frequency) == 1 else \"ham\"\n",
    "print(f\"The email is: {email}\\nThe model predicts it as {prediction}.\")"
   ]
  },
  {
   "cell_type": "markdown",
   "metadata": {},
   "source": [
    "<a name=\"5\"></a>\n",
    "## 5 - Ek Bölüm \n",
    "\n",
    "Aşağıdaki bölümler derecelendirilmemiştir ancak az önce yaptığınız çalışmanın bazı ilginç uzantılarını göstermektedir. Ancak daha derinlemesine bilgi edinmek isterseniz aşağıdaki bölümlere göz atabilirsiniz.\n",
    "\n",
    "<a name=\"5.1\"></a>\n",
    "### 5.1 Naive Bayes modelindeki gizli sorun.\n",
    "\n",
    "Mevcut modeldeki gizli bir sorun performansını etkiliyor. Belirli bir örnekte Naive Bayes hesaplamasını manuel olarak gerçekleştirerek sorunu inceleyelim."
   ]
  },
  {
   "cell_type": "code",
   "execution_count": 41,
   "metadata": {},
   "outputs": [
    {
     "name": "stdout",
     "output_type": "stream",
     "text": [
      "The email is:\n",
      "\tfrom the enron india newsdesk - may 5 - 7 newsclips  stinson / vince ,  some news articles . do read the first one , and the second last one .  regards ,  sandeep .  - - - - - - - - - - - - - - - - - - - - - - forwarded by sandeep kohli / enron _ development on  05 / 07 / 2001 09 : 10 am - - - - - - - - - - - - - - - - - - - - - - - - - - -  nikita varma  05 / 07 / 2001 07 : 42 am  to : nikita varma / enron _ development @ enron _ development  cc : ( bcc : sandeep kohli / enron _ development )  subject : from the enron india newsdesk - may 5 - 7 newsclips  the economic times , may 7 , 2001  enron ceo casts vote to save dpc , tina edwin & soma banerjee  - - - - - - - - - - - - - - - - - - - - - - - - - - - - - - - - - -  the economic times , may 7 , 2001  maha sore over delay in naming godbole nominee  - - - - - - - - - - - - - - - - - - - - - - - - - - - - - - - - - -  the times of india , 7 may , 2001  maharashtra ' unhappy ' with delay in naming godbole nominee  - - - - - - - - - - - - - - - - - - - - - - - - - - - - - - - - - -  business standard , monday , 7 may 2001  reliance allowed to hawk power from patalganga to third parties  arijit de , s ravindran & renni abraham in mumbai  - - - - - - - - - - - - - - - - - - - - - - - - - - - - - - - - - -  the economic times , may 7 , 2001  no need of patalganga , bhadravati power : mseb  also appeared in the following newspaper :  the times of india , may 7 , 2001  ' no need of patalganga , bhadravati power '  - - - - - - - - - - - - - - - - - - - - - - - - - - - - - - - - - -  business standard , may 7 , 2001  global bankers ask govt to honour dpc obligations  - - - - - - - - - - - - - - - - - - - - - - - - - - - - - - - - - -  business standard  saturday , 5 may , 2001 ,  ge may pull out as dpc supplier , s ravindran in mumbai  - - - - - - - - - - - - - - - - - - - - - - - - - - - - - - - - - -  hindu businessline , may 5 , 2001  agenda for fresh talks with enron chalked out  - - - - - - - - - - - - - - - - - - - - - - - - - - - - - - - - - -  the economic times , may 6 , 2001  http : / / 216 . 34 . 146 . 167 : 8000 / servlet / form  godbole panel meets sans dabhol representation  - - - - - - - - - - - - - - - - - - - - - - - - - - - - - - - - - -  the economic times , may 5 , 2001  http : / / 216 . 34 . 146 . 167 : 8000 / servlet / form  ntpc not to buy power from enron : govt  - - - - - - - - - - - - - - - - - - - - - - - - - - - - - - - - - -  the times of india , may 7 , 2001  mseb recovers rs 3 . 06 cr arrears in one day  - - - - - - - - - - - - - - - - - - - - - - - - - - - - - - - - - -  the economic times , may 7 , 2001  enron ceo casts vote to save dpc , tina edwin & soma banerjee  amul ' s creative directors may have gone back to ad - libbing ' enron or  enr - off ' , but for the big kahuna at the american utility , dabhol is still a  worthwhile project . while the entire enron board had almost decided to call  it quits and proceed with the termination of the $ 2 . 9 - billion power project  at dabhol , the veto exercised by the company chairman kenneth lay has saved  the project \u0001 * - at least for the timebeing . sources said the meeting held on  tuesday at the energy major ' s headquarters in houston could have sounded the  death knell for the only big foreign investment in the indian power sector .  although the future of the project is still pretty uncertain with the lenders  unwilling to continue disbursements unless payment obligations are not  honoured and contractual obligations left unfulfilled , the veto exercised at  this juncture by the chairman of the parent company has come as a big boost  to the indian venture . company sources said : \" we do not know what went on  there but it is true that as of now we are not pulling out . \" with the  engineering procurement and construction contractors ge and equipment  suppliers bechtel too in a cautious mode mode , dpc was finding it even more  difficult to continue the construction of the project as per the schedules .  sources said the stand taken by the rest of the directors on the board would  be in view of the backlash that the company would have to face from its  shareholders if the project actually flopped . enron had similar bitter  experiences in pakistan and it was difficult for the parent company to then  justify such investments to the shareholders .  enron , which had planned a major investments in india ' s infrastructure  sectors such as oil and gas , lng , gas transportation , telecom and broadband  network , has already pulled out most of their personnel from some of these  operations . the company ' s mous with various other majors like indian oil  corporation , too , is in a limbo and the us major ' s stake in the oil and gas  venture is up for grabs . however , even though lay is still hoping to find a  solution to the controversy back home , both dpc and mseb are still to get  down to negotiations .  - - - - - - - - - - - - - - - - - - - - - - - - - - - - - - - - - -  the economic times , may 7 , 2001  maha sore over delay in naming godbole nominee  the maharashtra government has expressed ' unhappiness ' over the centre ' s  delay in appointing its nominee on the nine - member godbole committee to  renegotiate the power purchase agreement signed between enron - promoted  dabhol power company and state electricity board . \" the committee , which is  to hold discussions with enron officials from houston on may 11 , has only a  month ' s time for renegotiations and with dpc ' s termination notice threat  hanging on our head , time is actually running out . yet there is no official  to represent the union government , \" said a senior state government official .  \" there are media reports that the solicitor - general harish salve would be  appointed , but we are yet to hear anything from their side , \" he said .  the official said the state expected centre to announce its representative  before may 11 , as it would appreciate his crucial presence in the first  session of discussions with enron officials , lenders and gas suppliers .  sources in the mantralaya added the government had also been unhappy over  the centre ' s \" rigid stand \" on not allowing state - owned national thermal power  corporation to buy the excess capacity of dpc ' s total 2 , 184 - mw project .  \" let ntpc and power trading corporation of india come together and sell dpc ' s  surlpus power . we have already mooted this suggestion , but a favourable reply  is yet to come from the union power ministry , \" the official said .  - - - - - - - - - - - - - - - - - - - - - - - - - - - - - - - - - -  the times of india , 7 may , 2001  maharashtra ' unhappy ' with delay in naming godbole nominee  the maharashtra government has expressed ' unhappiness ' over the centre ' s  delay in appointing its nominee on the nine - member godbole committee to  renegotiate the power purchase agreement ( ppa ) signed between enron promoted  dabhol power company ( dpc ) and the maharashtra state electricity board  ( mseb ) . \" the committee , which is to hold discussions with enron officials  from houston on may 11 , has only a month ' s time for renegotiations and with  dpc ' s termination notice threat hanging on our head , time is actually running  out . yet there is no official to represent the union government , \" a senior  state government official said here on sunday . \" there are media reports that  solicitor general harish salve would be appointed , but we are yet to hear  anything from their side , \" he said .  the official said that the state expected the centre to announce their  representative before may 11 , as it would appreciate his crucial presence in  the first session of discussions with enron officials , lenders and gas  suppliers . sources in the mantralaya added that the government had also been  unhappy over the centre ' s rigid stand on not allowing state - owned national  thermal power corporation ( ntpc ) to buy the excess capacity of dpc ' s total  2 , 184 mw project . \" let ntpc and power trading corporation of india ( ptc ) come  together and sell dpc ' s surlpus power . we have already mooted this  suggestion , but a favourable reply is yet to come from the union power  ministry , \" the official said . the official said that the centre , which was  also responsible for dpc project as it has provided counter guarantee to  enron india , should form a special purpose vehicle for sale of the excess  power to other states . the state government ' s reaction comes in wake of union  power minister suresh prabhu ' s discussion with chief minister vilasrao  deshmukh in delhi few days ago . it was learnt that prabhu told deshmukh  \" there is no question of ntpc buying power from the project since long term  ppas have been signed by ntpc with the buying states \" .  deshmukh had suggested that the central power utility should sell excess  power over and above the 300 - 400 mw needed for the state from the dpc ' s 740  mw phase - i and soon to be commissioned phase - ii of 1 , 444 mw , to other needy  states . considering the high cost of power generated from dpc , which during  the recent months has hovered around rs 7 per unit as against an average cost  of rs 2 . 30 - 2 . 80 a unit from central and state utilities , there would be few  takers for the power from dabhol , the power minister reportedly said .  \" deficit states will buy dpc power only when the cost of power is brought  down , \" he said , adding power ministry would facilitate wheelng of this power  to the buyers .  - - - - - - - - - - - - - - - - - - - - - - - - - - - - - - - - - -  business standard , monday , 7 may 2001  reliance allowed to hawk power from patalganga to third parties  arijit de , s ravindran & renni abraham in mumbai  in an unusual departure from normal practice , the maharashtra government has  allowed the reliance group to sell power generated by its 447 - mw patalganga  power project directly to third parties if the maharashtra state  electricity board ( mseb ) does not lift power . the project \u0001 , s power purchase  agreement ( ppa ) has a clause to this effect . the state government \u0001 , s  permission to reliance to hawk power to third parties has to be seen in the  context of its dithering on forwarding to the centre the dabhol power  company \u0001 , s bid for mega power status so that it could sell power to third  parties .  dpc sources told business standard several weeks ago that the company \u0001 , s  application had been pending with the chief minister \u0001 , s office for months .  only now has the state government authorised the godbole committee to  negotiate with dpc on third party sales outside the state . the dpc project  is facing the threat of closure following mseb \u0001 , s inability to buy power from  it , thanks to the board \u0001 , s weak financial position . not only can the  reliance group sell power to third parties within maharashtra , but it can  sell power to utilities outside the state . the ppa does not expressly bar it  from doing so . nor does it specify the category of customers to whom power  can be sold . so , in effect , this suggests that the group could sell power to  industrial and commercial customers in maharashtra and emerge as a rival to  the mseb . the state electricity board derives over 80 per cent of its revenue  from such consumers .  apart from captive power plants , independent power producers in india are  allowed to sell power only to state electricity boards . they can sell power  outside the state only if they qualify for mega power project status . with  its 447 - mw capacity , the patalganga project is not eligible for such status  because mega power rojects are supposed to have a minimum capacity of 1 , 000  mw . speaking on the sidelines of a press conference last week , reliance  industries managing director anil ambani told business standard : a provision  in third parties . ambani was answering a question on whether the mseb \u0001 , s weak  financials and inability to offer escrow cover to the project as emphasised  in the godbole committee report set up to defuse the dabhol crisis would  derail the patalganga project .  the ppa does not have any express restriction as to third party sale outside  the state , a reliance spokesperson confirmed on friday in a faxed response  to questions . a senior mseb official explained that the state government  cleared private power projects some years ago on the basis of the  unrealistically high demand projections contained in a report by a former  mseb official . subsequently , it was realised that the state would be stuck  with excess power . so the reliance group was permitted to sell power to third  parties , he said . the patalganga project along with the ispat group \u0001 , s 1 , 082  mw bhadravati project has been put on hold till the godbole committee submits  its second  report .  - - - - - - - - - - - - - - - - - - - - - - - - - - - - - - - - - -  the economic times , may 7 , 2001  no need of patalganga , bhadravati power : mseb  the axe seems to have finally fallen on the much - delayed reliance  industries - promoted patalganga and ispat industries ' bhadravati power  projects in maharashtra as the state electricity board has firmly told the  government that \" there is no need of these projects nor their power \" . the  loss - making board has communicated to the government that mseb had \" no  interest \" in patalganga and bhadravati , as it did not have escrow - able  capacity and also that industrial demand for power had slowed down  tremendously in maharashtra , state government sources said here on sunday .  \" in last november itself , mseb had sent an official intimation to the state  government informing its decision in favour of cancellation of the two  projects on several grounds - - including they being unviable and  unaffordable , \" sources said . \" reliance ' s project is no different from that of  dpc ' s . patalganga is also naphtha - based and its ppa is on similar lines . . .  after the enron experience , mseb cannot even dream of another gas - based  power plant in the state , \" a senior mseb official said . he said mseb has  already asked the state government not to provide escrow to both the 447 - mw  patalganga and the 1 , 084 - mw coal - based bhadravati , \" as the us energy major  has almost squeezed us of all over finances \" . when contacted , mseb chairman  vinay bansal said : \" reliance and ispat projects have been put on hold as per  the godbole committee ' s recommendations \" , but expressed inability to give  further details .  currently , bhadravati and patalganga projects have been put on hold as per  godbole committee report , which was set up to review the dpc - mseb ppa and  energy scenario in maharashtra . \" can you go ahead with the project without an  escrow cover ? \" the committee was believed to have asked ispat and reliance  representatives , to which the reply had been negative , sources added .  sources said , as of now , both the projects have not been able to achieve  financial closure as leading financial institutions were not willing to  fund the projects which do not have a \" guaranteed payment \" mechanism from  mseb , which , incidentally it has promised to dpc . \" all the three were cleared  as ' fast - track ' projects , but other than enron , reliance and ispat have been  caught in a quagmire , especially bhadravati , which has been hanging afire  since last nine years , \" they added .  moreover , the mseb official opined that given the current situation , if dpc  calls it quits from india , bhadravati was a safer bet than reliance ' s  patalganga . patalganga ' s power would be mere 50 paise less than that of dpc ' s  that ranges anywhere around approximately rs 4 . 50 per unit to as high as rs  7 , while bhadravati ' s cost could be around rs 3 . 80 to rs 4 per unit , he  informed . mseb ' s installed capacity ended on march 31 , 2001 , wasl 4 , 000 mw and  it has generated 45 , 000 million units with transmission and distribution  losses as high as 39 per cent . ( pti )  - - - - - - - - - - - - - - - - - - - - - - - - - - - - - - - - - -  business standard , may 7 , 2001  global bankers ask govt to honour dpc obligations  tamal bandyopadhyay , surajeet dasgupta & santosh tiwary in mumbai / newdelhi  global arrangers for the dabhol power company have mounted fresh pressure on  the finance ministry to honour the union government \u0001 , s counter - guarantee and  have also set strict conditions for reconsidering the termination of the  power purchase agreement ( ppa ) between the dpc and the maharashtra state  electricity board ( mseb ) . in a related development , the dpc has sent a note  to all lenders saying they would have to bear the consequences of the turn  of events as they have prevented the dpc from serving the ppa termination  notice last month .  the lenders . in their turn , sent a statement - - prepared by the new  york - based legal firm white & case - - defending their stance saying they are  working in the best interest of the project . the lenders are expected to  meet in london over the next fortnight to take stock of the situation . the  deadline for resolving the issues are drawing to a close as 10 days of the  three - week reprieve have passed . at the dpc board meeting in london on may  25 , the lenders had managed to stall the issuance of the termination  notice and got three weeks \u0001 , time for themselves to convince the centre as  well as the maharashtra government to resolve the impasse on the  controversial project . in a letter to finance secretary ajit kumar dated  april 30 , the global arrangers said the government must own up its  responsibility and meet its obligations without further delay . among the  stiff conditions , set by the arrangers , are the demand that the central  government ensure payment of all the pending bills of mseb for december  2000 , january 2001 , february 2001 and march 2001 which remain unpaid  without any protest or reservation by may 7 ( monday ) .  any payment previously made under \u0001 & protest \u0001 8 should be made free and clear of  such protest or any other reservation , and the center should ensure timely  payment of future bills by mseb , they said . meanwhile , sources said that the  finance secretary was expected to meet the international lenders to the  dabhol projects in london stand on the issue . the lenders \u0001 , list of demands  also include asking mseb to take steps required under the existing  contracts to activate the escrow arrangements put in place at the time of  financial close of phase ii of the project by may 7 .  they have demanded that the union government and the maharashtra government  should take all required actions to ensure that no government agency will  take any step to impede the operation of phase i or the construction and  operation of phase ii without due cause . the lenders have also asked them to  ensure that the relevant customs authorities permit import of all goods and  equipment required for the project by may 21 . csfb , anz export finance ,  citi , bank of america and abn amro are the global arrangers for both phase i  as well as phase ii of the project .  the state bank of india , which is also a global arranger for phase ii , did  not sign the letter . \" ten days have passed since the lenders bought three  weeks time from the company delaying its declaration of the termination of  the ppa . since then , nothing has moved at the material level barring mseb ' s  payment of the january bill to the tune of rs 134 crore under protest , \" said  a source among the global arrangers . come forward to meet its obligations  the lenders are planning to meet around mid - may in london and this time  they will be left with no choice but to give the go - ahead to the company to  terminate the ppa unless the finance ministry comes forward to settle the  issue , the source added . the lenders are , however , not ready to take the  blame for any delay in the termination of ppa as implied by the company . the  white & case statement said the lenders are concerned about the fate of the  project and they are exploring all intermediate steps before choosing the  last option - - termination of ppa .  - - - - - - - - - - - - - - - - - - - - - - - - - - - - - - - - - -  business standard , saturday , 5 may , 2001  ge may pull out as dpc supplier , s ravindran in mumbai  after us - based bechtel , it is now the turn of general electric to review its  participation as equipment supplier to the controversial 2 , 184 - mw power  project in maharashtra , being set up by the dabhol power company . bechtel is  the epc contractor to the project while ge has supplied the equipment ,  primarily turbines . general electric , like bechtel , also holds 10 per cent in  dabhol power company ( dpc ) . and both bechtel and general electric are worried  about future payments from dpc . sources familiar with the project said that  so far dpc has not defaulted in its payments to general electric . what is  worrying general electric is the possible scenario after june 7 , when about  700 mw power will be commissioned after the second phase trial runs .  dpc and the maharashtra state electricity board ( mseb ) have been locked in a  payments dispute for months . if mseb continues with its stance , dpc in turn  may not be able to pay general electric . in such a situation , ge may walk out  of the project . a final decision will be taken only in june , said sources .  general electric did not respond to a faxed questionnaire sent by business  standard . senior executives at its public relations agency burson  marsteller roger pereira said that only dpc executives were authorised to  speak on the issue . the dpc spokesman declined to comment on the issue .  the first phase of the 740 mw has already been commissioned . after the second  phase of 1 , 444 mwis commissioned by december , 2001 , mseb will have to pay  dpc a minimum of rs 500 crore per month . the escrow account for this was to  have been made operational by april 7 , 2001 . mseb has refused to do this .  earlier , dpc had invoked the political force majeure clause in its contract  with the board . mseb is now arguing that the invocation of this clause has  absolved dpc of all its liabilities .  consequently , it will not operationalise the escrow account . this casts a  further shadow over dpc \u0001 , s ability to pay general electric and bechtel . this  is worrying the lenders to the project as well . the situation has taken a  turn for the worse with dpc practically refusing to re - negotiate the contract  for the second phase with the godbole panel constituted by the maharashtra  government .  - - - - - - - - - - - - - - - - - - - - - - - - - - - - - - - - - -  hindu businessline , may 5 , 2001  agenda for fresh talks with enron chalked out  officials of the state government , maharashtra state electricity board ( mseb )  and members of the madhav godbole committee , which recently submitted its  review on the dabhol power project , met here on saturday . the meeting was to  ` ` chart the agenda for renegotiation with enron officials , ' ' a senior mseb  official said . enron officials were scheduled to attend this meeting but  backed out on may 3 . enron had informed the state government that it would  not accept the recommendations of the godbole committee .  ` it is understandable that the company does not find the recommendations  acceptable . but the report is not bound to personal opinions , ' ' the official  said . the next meeting to decide the direction of renegotiation process with  enron is scheduled on may 11 .  - - - - - - - - - - - - - - - - - - - - - - - - - - - - - - - - - -  the economic times , may 6 , 2001  godbole panel meets sans dabhol representation  the godbole committee , set up for renegotiating the estranged power purchase  agreement between us energy major enron - promoted dabhol power company and the  state electricity board on saturday held its first internal meeting sans  representatives of the multinational . \" it was an internal meeting to take  stock of the current situation and decide on matter pertaining to the may 11  meet with officials of enron , ge , bechtel and dpc ' s foreign lenders , \" said  state government sources . the meeting , which lasted for almost four hours ,  discussed a strategy to present the committee ' s recommendations made public  last month , they said .  of the nine members of the committee , saturday ' s meeting was attended by five  members - - including godbole , mseb chairman vinay bansal , state energy  secretary v m lal , state finance secretary sudhir shrivastava and kirit  parekh of indira gandhi institute of developmental research . those absent  were hdfc chairman deepak parekh , teri director r k pachauri , former union  energy secretary eas sarma and yet - to - be - appointed representatives of the  centre and central electricity authority . the negotiating committee would  suggest solutions to bring down the exorbitant power tariff , separating of  the liquefied natural gas facility , restructuring of dpc and allowing sale of  excess power through central utilities mainly the national thermal power  corporation , said sources . ( pti  - - - - - - - - - - - - - - - - - - - - - - - - - - - - - - - - - -  the economic times , may 5 , 2001  ntpc not to buy power from enron : govt  the centre has ruled out the possibility of national thermal power  corporation buying power generated by us energy giant enron - promoted dabhol  power company . union power minister suresh prabhu is learnt to have stated  this during the meeting with maharashtra chief minister vilasrao deshmukh  last month , convened by the finance minister yashwant sinha to discuss the  enron crisis , said government sources on friday .  prabhu had pointed out that \" there is no question of ntpc buying power from  the project since long - term power purchase agreements have been signed by  ntpc with the buying states \" . maharashtra chief minister vilasrao deshmukh  during the meeting suggested that the central power utility sell the excess  power over and above the 300 - 400 mw needed for the state from the 740 mw  phase - i and soon - to - be - commissioned phase - ii of 1 , 444 - mw , to other needy  states . when contacted , prabhu said the entire controversy over payment  default by maharashtra state electricity board owing to high cost of power  generated by dpc had to be resolved between the state government , and dpc and  centre had very limited role to play . dpc has already slapped one  conciliation notice on the centre and three arbitration notices on the state  government over non - payment of dues amounting to rs 213 - crore - plus interest  rate towards bills due for the months of december 2000 and january 2001 . ( pti )  - - - - - - - - - - - - - - - - - - - - - - - - - - - - - - - - - -  the times of india , may 7 , 2001  mseb recovers rs 3 . 06 cr arrears in one day  in a special day - long drive , nagpur rural zone of maharashtra state  electricity board ( mseb ) has recovered rs 3 . 06 crore as arrears from the  defaulters who had to pay a handsome dividend , and disconnectedl 5 , 000  connections of erring customers last week . according to mseb sources , under  the drive , initiated by chief engineer manohar bapat , with the assistance of  about 5 , 000 employees including engineers , accounts staff and linesmen , a  door - to - door campaign was launched to meet 25 , 000 customers , leading to the  recovery of the dues . power supply to 15 , 000 customers were disconnected on  the spot due to non - payment of arrears in chandrapur , gadchiroli , wardha ,  bhandara , gondia and nagpur districts , it said in a release . the drive met  with stiff resistence from public and the police were called in at many  places to assist the powermen , it added .\n",
      "\n",
      "After preprocessing:\n",
      "\t:['enron', 'india', 'newsdesk', '5', '7', 'newsclips', 'stinson', 'vince', 'news', 'articles', 'read', 'second', 'regards', 'sandeep', 'forwarded', 'sandeep', 'kohli', 'enron', '_', 'development', '05', '07', '2001', '09', '10', 'nikita', 'varma', '05', '07', '2001', '07', '42', 'nikita', 'varma', 'enron', '_', 'development', 'enron', '_', 'development', 'cc', 'bcc', 'sandeep', 'kohli', 'enron', '_', 'development', 'subject', 'enron', 'india', 'newsdesk', '5', '7', 'newsclips', 'economic', 'times', '7', '2001', 'enron', 'ceo', 'casts', 'vote', 'save', 'dpc', 'tina', 'edwin', 'soma', 'banerjee', 'economic', 'times', '7', '2001', 'maha', 'sore', 'delay', 'naming', 'godbole', 'nominee', 'times', 'india', '7', '2001', 'maharashtra', 'unhappy', 'delay', 'naming', 'godbole', 'nominee', 'business', 'standard', 'monday', '7', '2001', 'reliance', 'allowed', 'hawk', 'power', 'patalganga', 'parties', 'arijit', 's', 'ravindran', 'renni', 'abraham', 'mumbai', 'economic', 'times', '7', '2001', 'need', 'patalganga', 'bhadravati', 'power', 'mseb', 'appeared', 'following', 'newspaper', 'times', 'india', '7', '2001', 'need', 'patalganga', 'bhadravati', 'power', 'business', 'standard', '7', '2001', 'global', 'bankers', 'ask', 'govt', 'honour', 'dpc', 'obligations', 'business', 'standard', 'saturday', '5', '2001', 'ge', 'pull', 'dpc', 'supplier', 's', 'ravindran', 'mumbai', 'hindu', 'businessline', '5', '2001', 'agenda', 'fresh', 'talks', 'enron', 'chalked', 'economic', 'times', '6', '2001', 'http', '216', '34', '146', '167', '8000', 'servlet', 'form', 'godbole', 'panel', 'meets', 'sans', 'dabhol', 'representation', 'economic', 'times', '5', '2001', 'http', '216', '34', '146', '167', '8000', 'servlet', 'form', 'ntpc', 'buy', 'power', 'enron', 'govt', 'times', 'india', '7', '2001', 'mseb', 'recovers', 'rs', '3', '06', 'cr', 'arrears', 'day', 'economic', 'times', '7', '2001', 'enron', 'ceo', 'casts', 'vote', 'save', 'dpc', 'tina', 'edwin', 'soma', 'banerjee', 'amul', 's', 'creative', 'directors', 'gone', 'ad', 'libbing', 'enron', 'enr', 'big', 'kahuna', 'american', 'utility', 'dabhol', 'worthwhile', 'project', 'entire', 'enron', 'board', 'decided', 'quits', 'proceed', 'termination', '2', '9', 'billion', 'power', 'project', 'dabhol', 'veto', 'exercised', 'company', 'chairman', 'kenneth', 'lay', 'saved', 'project', 'timebeing', 'sources', 'said', 'meeting', 'held', 'tuesday', 'energy', 'major', 's', 'headquarters', 'houston', 'sounded', 'death', 'knell', 'big', 'foreign', 'investment', 'indian', 'power', 'sector', 'future', 'project', 'pretty', 'uncertain', 'lenders', 'unwilling', 'continue', 'disbursements', 'unless', 'payment', 'obligations', 'honoured', 'contractual', 'obligations', 'left', 'unfulfilled', 'veto', 'exercised', 'juncture', 'chairman', 'parent', 'company', 'come', 'big', 'boost', 'indian', 'venture', 'company', 'sources', 'said', 'know', 'went', 'true', 'pulling', 'engineering', 'procurement', 'construction', 'contractors', 'ge', 'equipment', 'suppliers', 'bechtel', 'cautious', 'mode', 'mode', 'dpc', 'finding', 'difficult', 'continue', 'construction', 'project', 'schedules', 'sources', 'said', 'stand', 'taken', 'rest', 'directors', 'board', 'view', 'backlash', 'company', 'face', 'shareholders', 'project', 'actually', 'flopped', 'enron', 'similar', 'bitter', 'experiences', 'pakistan', 'difficult', 'parent', 'company', 'justify', 'investments', 'shareholders', 'enron', 'planned', 'major', 'investments', 'india', 's', 'infrastructure', 'sectors', 'oil', 'gas', 'lng', 'gas', 'transportation', 'telecom', 'broadband', 'network', 'pulled', 'personnel', 'operations', 'company', 's', 'mous', 'various', 'majors', 'like', 'indian', 'oil', 'corporation', 'limbo', 'major', 's', 'stake', 'oil', 'gas', 'venture', 'grabs', 'lay', 'hoping', 'solution', 'controversy', 'home', 'dpc', 'mseb', 'negotiations', 'economic', 'times', '7', '2001', 'maha', 'sore', 'delay', 'naming', 'godbole', 'nominee', 'maharashtra', 'government', 'expressed', 'unhappiness', 'centre', 's', 'delay', 'appointing', 'nominee', 'member', 'godbole', 'committee', 'renegotiate', 'power', 'purchase', 'agreement', 'signed', 'enron', 'promoted', 'dabhol', 'power', 'company', 'state', 'electricity', 'board', 'committee', 'hold', 'discussions', 'enron', 'officials', 'houston', '11', 'month', 's', 'time', 'renegotiations', 'dpc', 's', 'termination', 'notice', 'threat', 'hanging', 'head', 'time', 'actually', 'running', 'official', 'represent', 'union', 'government', 'said', 'senior', 'state', 'government', 'official', 'media', 'reports', 'solicitor', 'general', 'harish', 'salve', 'appointed', 'hear', 'said', 'official', 'said', 'state', 'expected', 'centre', 'announce', 'representative', '11', 'appreciate', 'crucial', 'presence', 'session', 'discussions', 'enron', 'officials', 'lenders', 'gas', 'suppliers', 'sources', 'mantralaya', 'added', 'government', 'unhappy', 'centre', 's', 'rigid', 'stand', 'allowing', 'state', 'owned', 'national', 'thermal', 'power', 'corporation', 'buy', 'excess', 'capacity', 'dpc', 's', 'total', '2', '184', 'mw', 'project', 'let', 'ntpc', 'power', 'trading', 'corporation', 'india', 'come', 'sell', 'dpc', 's', 'surlpus', 'power', 'mooted', 'suggestion', 'favourable', 'reply', 'come', 'union', 'power', 'ministry', 'official', 'said', 'times', 'india', '7', '2001', 'maharashtra', 'unhappy', 'delay', 'naming', 'godbole', 'nominee', 'maharashtra', 'government', 'expressed', 'unhappiness', 'centre', 's', 'delay', 'appointing', 'nominee', 'member', 'godbole', 'committee', 'renegotiate', 'power', 'purchase', 'agreement', 'ppa', 'signed', 'enron', 'promoted', 'dabhol', 'power', 'company', 'dpc', 'maharashtra', 'state', 'electricity', 'board', 'mseb', 'committee', 'hold', 'discussions', 'enron', 'officials', 'houston', '11', 'month', 's', 'time', 'renegotiations', 'dpc', 's', 'termination', 'notice', 'threat', 'hanging', 'head', 'time', 'actually', 'running', 'official', 'represent', 'union', 'government', 'senior', 'state', 'government', 'official', 'said', 'sunday', 'media', 'reports', 'solicitor', 'general', 'harish', 'salve', 'appointed', 'hear', 'said', 'official', 'said', 'state', 'expected', 'centre', 'announce', 'representative', '11', 'appreciate', 'crucial', 'presence', 'session', 'discussions', 'enron', 'officials', 'lenders', 'gas', 'suppliers', 'sources', 'mantralaya', 'added', 'government', 'unhappy', 'centre', 's', 'rigid', 'stand', 'allowing', 'state', 'owned', 'national', 'thermal', 'power', 'corporation', 'ntpc', 'buy', 'excess', 'capacity', 'dpc', 's', 'total', '2', '184', 'mw', 'project', 'let', 'ntpc', 'power', 'trading', 'corporation', 'india', 'ptc', 'come', 'sell', 'dpc', 's', 'surlpus', 'power', 'mooted', 'suggestion', 'favourable', 'reply', 'come', 'union', 'power', 'ministry', 'official', 'said', 'official', 'said', 'centre', 'responsible', 'dpc', 'project', 'provided', 'counter', 'guarantee', 'enron', 'india', 'form', 'special', 'purpose', 'vehicle', 'sale', 'excess', 'power', 'states', 'state', 'government', 's', 'reaction', 'comes', 'wake', 'union', 'power', 'minister', 'suresh', 'prabhu', 's', 'discussion', 'chief', 'minister', 'vilasrao', 'deshmukh', 'delhi', 'days', 'ago', 'learnt', 'prabhu', 'told', 'deshmukh', 'question', 'ntpc', 'buying', 'power', 'project', 'long', 'term', 'ppas', 'signed', 'ntpc', 'buying', 'states', 'deshmukh', 'suggested', 'central', 'power', 'utility', 'sell', 'excess', 'power', '300', '400', 'mw', 'needed', 'state', 'dpc', 's', '740', 'mw', 'phase', 'soon', 'commissioned', 'phase', 'ii', '1', '444', 'mw', 'needy', 'states', 'considering', 'high', 'cost', 'power', 'generated', 'dpc', 'recent', 'months', 'hovered', 'rs', '7', 'unit', 'average', 'cost', 'rs', '2', '30', '2', '80', 'unit', 'central', 'state', 'utilities', 'takers', 'power', 'dabhol', 'power', 'minister', 'reportedly', 'said', 'deficit', 'states', 'buy', 'dpc', 'power', 'cost', 'power', 'brought', 'said', 'adding', 'power', 'ministry', 'facilitate', 'wheelng', 'power', 'buyers', 'business', 'standard', 'monday', '7', '2001', 'reliance', 'allowed', 'hawk', 'power', 'patalganga', 'parties', 'arijit', 's', 'ravindran', 'renni', 'abraham', 'mumbai', 'unusual', 'departure', 'normal', 'practice', 'maharashtra', 'government', 'allowed', 'reliance', 'group', 'sell', 'power', 'generated', '447', 'mw', 'patalganga', 'power', 'project', 'directly', 'parties', 'maharashtra', 'state', 'electricity', 'board', 'mseb', 'does', 'lift', 'power', 'project', 's', 'power', 'purchase', 'agreement', 'ppa', 'clause', 'effect', 'state', 'government', 's', 'permission', 'reliance', 'hawk', 'power', 'parties', 'seen', 'context', 'dithering', 'forwarding', 'centre', 'dabhol', 'power', 'company', 's', 'bid', 'mega', 'power', 'status', 'sell', 'power', 'parties', 'dpc', 'sources', 'told', 'business', 'standard', 'weeks', 'ago', 'company', 's', 'application', 'pending', 'chief', 'minister', 's', 'office', 'months', 'state', 'government', 'authorised', 'godbole', 'committee', 'negotiate', 'dpc', 'party', 'sales', 'outside', 'state', 'dpc', 'project', 'facing', 'threat', 'closure', 'following', 'mseb', 's', 'inability', 'buy', 'power', 'thanks', 'board', 's', 'weak', 'financial', 'position', 'reliance', 'group', 'sell', 'power', 'parties', 'maharashtra', 'sell', 'power', 'utilities', 'outside', 'state', 'ppa', 'does', 'expressly', 'bar', 'doing', 'does', 'specify', 'category', 'customers', 'power', 'sold', 'effect', 'suggests', 'group', 'sell', 'power', 'industrial', 'commercial', 'customers', 'maharashtra', 'emerge', 'rival', 'mseb', 'state', 'electricity', 'board', 'derives', '80', 'cent', 'revenue', 'consumers', 'apart', 'captive', 'power', 'plants', 'independent', 'power', 'producers', 'india', 'allowed', 'sell', 'power', 'state', 'electricity', 'boards', 'sell', 'power', 'outside', 'state', 'qualify', 'mega', 'power', 'project', 'status', '447', 'mw', 'capacity', 'patalganga', 'project', 'eligible', 'status', 'mega', 'power', 'rojects', 'supposed', 'minimum', 'capacity', '1', '000', 'mw', 'speaking', 'sidelines', 'press', 'conference', 'week', 'reliance', 'industries', 'managing', 'director', 'anil', 'ambani', 'told', 'business', 'standard', 'provision', 'parties', 'ambani', 'answering', 'question', 'mseb', 's', 'weak', 'financials', 'inability', 'offer', 'escrow', 'cover', 'project', 'emphasised', 'godbole', 'committee', 'report', 'set', 'defuse', 'dabhol', 'crisis', 'derail', 'patalganga', 'project', 'ppa', 'does', 'express', 'restriction', 'party', 'sale', 'outside', 'state', 'reliance', 'spokesperson', 'confirmed', 'friday', 'faxed', 'response', 'questions', 'senior', 'mseb', 'official', 'explained', 'state', 'government', 'cleared', 'private', 'power', 'projects', 'years', 'ago', 'basis', 'unrealistically', 'high', 'demand', 'projections', 'contained', 'report', 'mseb', 'official', 'subsequently', 'realised', 'state', 'stuck', 'excess', 'power', 'reliance', 'group', 'permitted', 'sell', 'power', 'parties', 'said', 'patalganga', 'project', 'ispat', 'group', 's', '1', '082', 'mw', 'bhadravati', 'project', 'hold', 'till', 'godbole', 'committee', 'submits', 'second', 'report', 'economic', 'times', '7', '2001', 'need', 'patalganga', 'bhadravati', 'power', 'mseb', 'axe', 'finally', 'fallen', 'delayed', 'reliance', 'industries', 'promoted', 'patalganga', 'ispat', 'industries', 'bhadravati', 'power', 'projects', 'maharashtra', 'state', 'electricity', 'board', 'firmly', 'told', 'government', 'need', 'projects', 'power', 'loss', 'making', 'board', 'communicated', 'government', 'mseb', 'patalganga', 'bhadravati', 'did', 'escrow', 'able', 'capacity', 'industrial', 'demand', 'power', 'slowed', 'tremendously', 'maharashtra', 'state', 'government', 'sources', 'said', 'sunday', 'november', 'mseb', 'sent', 'official', 'intimation', 'state', 'government', 'informing', 'decision', 'favour', 'cancellation', 'projects', 'grounds', 'including', 'unviable', 'unaffordable', 'sources', 'said', 'reliance', 's', 'project', 'different', 'dpc', 's', 'patalganga', 'naphtha', 'based', 'ppa', 'similar', 'lines', 'enron', 'experience', 'mseb', 'dream', 'gas', 'based', 'power', 'plant', 'state', 'senior', 'mseb', 'official', 'said', 'said', 'mseb', 'asked', 'state', 'government', 'provide', 'escrow', '447', 'mw', 'patalganga', '1', '084', 'mw', 'coal', 'based', 'bhadravati', 'energy', 'major', 'squeezed', 'finances', 'contacted', 'mseb', 'chairman', 'vinay', 'bansal', 'said', 'reliance', 'ispat', 'projects', 'hold', 'godbole', 'committee', 's', 'recommendations', 'expressed', 'inability', 'details', 'currently', 'bhadravati', 'patalganga', 'projects', 'hold', 'godbole', 'committee', 'report', 'set', 'review', 'dpc', 'mseb', 'ppa', 'energy', 'scenario', 'maharashtra', 'ahead', 'project', 'escrow', 'cover', 'committee', 'believed', 'asked', 'ispat', 'reliance', 'representatives', 'reply', 'negative', 'sources', 'added', 'sources', 'said', 'projects', 'able', 'achieve', 'financial', 'closure', 'leading', 'financial', 'institutions', 'willing', 'fund', 'projects', 'guaranteed', 'payment', 'mechanism', 'mseb', 'incidentally', 'promised', 'dpc', 'cleared', 'fast', 'track', 'projects', 'enron', 'reliance', 'ispat', 'caught', 'quagmire', 'especially', 'bhadravati', 'hanging', 'afire', 'years', 'added', 'mseb', 'official', 'opined', 'given', 'current', 'situation', 'dpc', 'calls', 'quits', 'india', 'bhadravati', 'safer', 'bet', 'reliance', 's', 'patalganga', 'patalganga', 's', 'power', 'mere', '50', 'paise', 'dpc', 's', 'ranges', 'approximately', 'rs', '4', '50', 'unit', 'high', 'rs', '7', 'bhadravati', 's', 'cost', 'rs', '3', '80', 'rs', '4', 'unit', 'informed', 'mseb', 's', 'installed', 'capacity', 'ended', 'march', '31', '2001', 'wasl', '4', '000', 'mw', 'generated', '45', '000', 'million', 'units', 'transmission', 'distribution', 'losses', 'high', '39', 'cent', 'pti', 'business', 'standard', '7', '2001', 'global', 'bankers', 'ask', 'govt', 'honour', 'dpc', 'obligations', 'tamal', 'bandyopadhyay', 'surajeet', 'dasgupta', 'santosh', 'tiwary', 'mumbai', 'newdelhi', 'global', 'arrangers', 'dabhol', 'power', 'company', 'mounted', 'fresh', 'pressure', 'finance', 'ministry', 'honour', 'union', 'government', 's', 'counter', 'guarantee', 'set', 'strict', 'conditions', 'reconsidering', 'termination', 'power', 'purchase', 'agreement', 'ppa', 'dpc', 'maharashtra', 'state', 'electricity', 'board', 'mseb', 'related', 'development', 'dpc', 'sent', 'note', 'lenders', 'saying', 'bear', 'consequences', 'turn', 'events', 'prevented', 'dpc', 'serving', 'ppa', 'termination', 'notice', 'month', 'lenders', 'turn', 'sent', 'statement', 'prepared', 'new', 'york', 'based', 'legal', 'firm', 'white', 'case', 'defending', 'stance', 'saying', 'working', 'best', 'project', 'lenders', 'expected', 'meet', 'london', 'fortnight', 'stock', 'situation', 'deadline', 'resolving', 'issues', 'drawing', 'close', '10', 'days', 'week', 'reprieve', 'passed', 'dpc', 'board', 'meeting', 'london', '25', 'lenders', 'managed', 'stall', 'issuance', 'termination', 'notice', 'got', 'weeks', 'time', 'convince', 'centre', 'maharashtra', 'government', 'resolve', 'impasse', 'controversial', 'project', 'letter', 'finance', 'secretary', 'ajit', 'kumar', 'dated', 'april', '30', 'global', 'arrangers', 'said', 'government', 'responsibility', 'meet', 'obligations', 'delay', 'stiff', 'conditions', 'set', 'arrangers', 'demand', 'central', 'government', 'ensure', 'payment', 'pending', 'bills', 'mseb', 'december', '2000', 'january', '2001', 'february', '2001', 'march', '2001', 'remain', 'unpaid', 'protest', 'reservation', '7', 'monday', 'payment', 'previously', 'protest', '8', 'free', 'clear', 'protest', 'reservation', 'center', 'ensure', 'timely', 'payment', 'future', 'bills', 'mseb', 'said', 'sources', 'said', 'finance', 'secretary', 'expected', 'meet', 'international', 'lenders', 'dabhol', 'projects', 'london', 'stand', 'issue', 'lenders', 'list', 'demands', 'include', 'asking', 'mseb', 'steps', 'required', 'existing', 'contracts', 'activate', 'escrow', 'arrangements', 'place', 'time', 'financial', 'close', 'phase', 'ii', 'project', '7', 'demanded', 'union', 'government', 'maharashtra', 'government', 'required', 'actions', 'ensure', 'government', 'agency', 'step', 'impede', 'operation', 'phase', 'construction', 'operation', 'phase', 'ii', 'cause', 'lenders', 'asked', 'ensure', 'relevant', 'customs', 'authorities', 'permit', 'import', 'goods', 'equipment', 'required', 'project', '21', 'csfb', 'anz', 'export', 'finance', 'citi', 'bank', 'america', 'abn', 'amro', 'global', 'arrangers', 'phase', 'phase', 'ii', 'project', 'state', 'bank', 'india', 'global', 'arranger', 'phase', 'ii', 'did', 'sign', 'letter', 'days', 'passed', 'lenders', 'bought', 'weeks', 'time', 'company', 'delaying', 'declaration', 'termination', 'ppa', 'moved', 'material', 'level', 'barring', 'mseb', 's', 'payment', 'january', 'tune', 'rs', '134', 'crore', 'protest', 'said', 'source', 'global', 'arrangers', 'come', 'forward', 'meet', 'obligations', 'lenders', 'planning', 'meet', 'mid', 'london', 'time', 'left', 'choice', 'ahead', 'company', 'terminate', 'ppa', 'unless', 'finance', 'ministry', 'comes', 'forward', 'settle', 'issue', 'source', 'added', 'lenders', 'ready', 'blame', 'delay', 'termination', 'ppa', 'implied', 'company', 'white', 'case', 'statement', 'said', 'lenders', 'concerned', 'fate', 'project', 'exploring', 'intermediate', 'steps', 'choosing', 'option', 'termination', 'ppa', 'business', 'standard', 'saturday', '5', '2001', 'ge', 'pull', 'dpc', 'supplier', 's', 'ravindran', 'mumbai', 'based', 'bechtel', 'turn', 'general', 'electric', 'review', 'participation', 'equipment', 'supplier', 'controversial', '2', '184', 'mw', 'power', 'project', 'maharashtra', 'set', 'dabhol', 'power', 'company', 'bechtel', 'epc', 'contractor', 'project', 'ge', 'supplied', 'equipment', 'primarily', 'turbines', 'general', 'electric', 'like', 'bechtel', 'holds', '10', 'cent', 'dabhol', 'power', 'company', 'dpc', 'bechtel', 'general', 'electric', 'worried', 'future', 'payments', 'dpc', 'sources', 'familiar', 'project', 'said', 'far', 'dpc', 'defaulted', 'payments', 'general', 'electric', 'worrying', 'general', 'electric', 'possible', 'scenario', 'june', '7', '700', 'mw', 'power', 'commissioned', 'second', 'phase', 'trial', 'runs', 'dpc', 'maharashtra', 'state', 'electricity', 'board', 'mseb', 'locked', 'payments', 'dispute', 'months', 'mseb', 'continues', 'stance', 'dpc', 'turn', 'able', 'pay', 'general', 'electric', 'situation', 'ge', 'walk', 'project', 'final', 'decision', 'taken', 'june', 'said', 'sources', 'general', 'electric', 'did', 'respond', 'faxed', 'questionnaire', 'sent', 'business', 'standard', 'senior', 'executives', 'public', 'relations', 'agency', 'burson', 'marsteller', 'roger', 'pereira', 'said', 'dpc', 'executives', 'authorised', 'speak', 'issue', 'dpc', 'spokesman', 'declined', 'comment', 'issue', 'phase', '740', 'mw', 'commissioned', 'second', 'phase', '1', '444', 'mwis', 'commissioned', 'december', '2001', 'mseb', 'pay', 'dpc', 'minimum', 'rs', '500', 'crore', 'month', 'escrow', 'account', 'operational', 'april', '7', '2001', 'mseb', 'refused', 'earlier', 'dpc', 'invoked', 'political', 'force', 'majeure', 'clause', 'contract', 'board', 'mseb', 'arguing', 'invocation', 'clause', 'absolved', 'dpc', 'liabilities', 'consequently', 'operationalise', 'escrow', 'account', 'casts', 'shadow', 'dpc', 's', 'ability', 'pay', 'general', 'electric', 'bechtel', 'worrying', 'lenders', 'project', 'situation', 'taken', 'turn', 'worse', 'dpc', 'practically', 'refusing', 'negotiate', 'contract', 'second', 'phase', 'godbole', 'panel', 'constituted', 'maharashtra', 'government', 'hindu', 'businessline', '5', '2001', 'agenda', 'fresh', 'talks', 'enron', 'chalked', 'officials', 'state', 'government', 'maharashtra', 'state', 'electricity', 'board', 'mseb', 'members', 'madhav', 'godbole', 'committee', 'recently', 'submitted', 'review', 'dabhol', 'power', 'project', 'met', 'saturday', 'meeting', 'chart', 'agenda', 'renegotiation', 'enron', 'officials', 'senior', 'mseb', 'official', 'said', 'enron', 'officials', 'scheduled', 'attend', 'meeting', 'backed', '3', 'enron', 'informed', 'state', 'government', 'accept', 'recommendations', 'godbole', 'committee', 'understandable', 'company', 'does', 'recommendations', 'acceptable', 'report', 'bound', 'personal', 'opinions', 'official', 'said', 'meeting', 'decide', 'direction', 'renegotiation', 'process', 'enron', 'scheduled', '11', 'economic', 'times', '6', '2001', 'godbole', 'panel', 'meets', 'sans', 'dabhol', 'representation', 'godbole', 'committee', 'set', 'renegotiating', 'estranged', 'power', 'purchase', 'agreement', 'energy', 'major', 'enron', 'promoted', 'dabhol', 'power', 'company', 'state', 'electricity', 'board', 'saturday', 'held', 'internal', 'meeting', 'sans', 'representatives', 'multinational', 'internal', 'meeting', 'stock', 'current', 'situation', 'decide', 'matter', 'pertaining', '11', 'meet', 'officials', 'enron', 'ge', 'bechtel', 'dpc', 's', 'foreign', 'lenders', 'said', 'state', 'government', 'sources', 'meeting', 'lasted', 'hours', 'discussed', 'strategy', 'present', 'committee', 's', 'recommendations', 'public', 'month', 'said', 'members', 'committee', 'saturday', 's', 'meeting', 'attended', 'members', 'including', 'godbole', 'mseb', 'chairman', 'vinay', 'bansal', 'state', 'energy', 'secretary', 'v', 'm', 'lal', 'state', 'finance', 'secretary', 'sudhir', 'shrivastava', 'kirit', 'parekh', 'indira', 'gandhi', 'institute', 'developmental', 'research', 'absent', 'hdfc', 'chairman', 'deepak', 'parekh', 'teri', 'director', 'r', 'k', 'pachauri', 'union', 'energy', 'secretary', 'eas', 'sarma', 'appointed', 'representatives', 'centre', 'central', 'electricity', 'authority', 'negotiating', 'committee', 'suggest', 'solutions', 'bring', 'exorbitant', 'power', 'tariff', 'separating', 'liquefied', 'natural', 'gas', 'facility', 'restructuring', 'dpc', 'allowing', 'sale', 'excess', 'power', 'central', 'utilities', 'mainly', 'national', 'thermal', 'power', 'corporation', 'said', 'sources', 'pti', 'economic', 'times', '5', '2001', 'ntpc', 'buy', 'power', 'enron', 'govt', 'centre', 'ruled', 'possibility', 'national', 'thermal', 'power', 'corporation', 'buying', 'power', 'generated', 'energy', 'giant', 'enron', 'promoted', 'dabhol', 'power', 'company', 'union', 'power', 'minister', 'suresh', 'prabhu', 'learnt', 'stated', 'meeting', 'maharashtra', 'chief', 'minister', 'vilasrao', 'deshmukh', 'month', 'convened', 'finance', 'minister', 'yashwant', 'sinha', 'discuss', 'enron', 'crisis', 'said', 'government', 'sources', 'friday', 'prabhu', 'pointed', 'question', 'ntpc', 'buying', 'power', 'project', 'long', 'term', 'power', 'purchase', 'agreements', 'signed', 'ntpc', 'buying', 'states', 'maharashtra', 'chief', 'minister', 'vilasrao', 'deshmukh', 'meeting', 'suggested', 'central', 'power', 'utility', 'sell', 'excess', 'power', '300', '400', 'mw', 'needed', 'state', '740', 'mw', 'phase', 'soon', 'commissioned', 'phase', 'ii', '1', '444', 'mw', 'needy', 'states', 'contacted', 'prabhu', 'said', 'entire', 'controversy', 'payment', 'default', 'maharashtra', 'state', 'electricity', 'board', 'owing', 'high', 'cost', 'power', 'generated', 'dpc', 'resolved', 'state', 'government', 'dpc', 'centre', 'limited', 'role', 'play', 'dpc', 'slapped', 'conciliation', 'notice', 'centre', 'arbitration', 'notices', 'state', 'government', 'non', 'payment', 'dues', 'amounting', 'rs', '213', 'crore', 'plus', 'rate', 'bills', 'months', 'december', '2000', 'january', '2001', 'pti', 'times', 'india', '7', '2001', 'mseb', 'recovers', 'rs', '3', '06', 'cr', 'arrears', 'day', 'special', 'day', 'long', 'drive', 'nagpur', 'rural', 'zone', 'maharashtra', 'state', 'electricity', 'board', 'mseb', 'recovered', 'rs', '3', '06', 'crore', 'arrears', 'defaulters', 'pay', 'handsome', 'dividend', 'disconnectedl', '5', '000', 'connections', 'erring', 'customers', 'week', 'according', 'mseb', 'sources', 'drive', 'initiated', 'chief', 'engineer', 'manohar', 'bapat', 'assistance', '5', '000', 'employees', 'including', 'engineers', 'accounts', 'staff', 'linesmen', 'door', 'door', 'campaign', 'launched', 'meet', '25', '000', 'customers', 'leading', 'recovery', 'dues', 'power', 'supply', '15', '000', 'customers', 'disconnected', 'spot', 'non', 'payment', 'arrears', 'chandrapur', 'gadchiroli', 'wardha', 'bhandara', 'gondia', 'nagpur', 'districts', 'said', 'release', 'drive', 'met', 'stiff', 'resistence', 'public', 'police', 'called', 'places', 'assist', 'powermen', 'added']\n"
     ]
    }
   ],
   "source": [
    "example_index = 4798\n",
    "example_email = X[example_index]\n",
    "treated_email = preprocess_text(example_email)\n",
    "print(f\"The email is:\\n\\t{example_email}\\n\\nAfter preprocessing:\\n\\t:{treated_email}\")"
   ]
  },
  {
   "cell_type": "markdown",
   "metadata": {},
   "source": [
    "Bu durumda $P(\\text{spam}) \\cdot P(\\text{email} \\mid \\text{spam})$ ve $P(\\text{ham}) \\cdot P(\\text{email} \\mid \\text{ham})$'ı hesaplayalım. Bunu `naive_bayes` fonksiyonuna `return_likelihood = True` argümanını geçirerek yapabilirsiniz."
   ]
  },
  {
   "cell_type": "code",
   "execution_count": 42,
   "metadata": {},
   "outputs": [
    {
     "name": "stdout",
     "output_type": "stream",
     "text": [
      "spam_likelihood: 0.0\n",
      "ham_likelihood: 0.0\n"
     ]
    }
   ],
   "source": [
    "spam_likelihood, ham_likelihood = naive_bayes(treated_email, word_frequency = word_frequency, class_frequency = class_frequency, return_likelihood = True)\n",
    "print(f\"spam_likelihood: {spam_likelihood}\\nham_likelihood: {ham_likelihood}\")"
   ]
  },
  {
   "cell_type": "markdown",
   "metadata": {},
   "source": [
    "Bu garip, hem spam hem de ham olasılığı $0$! Nasıl mümkün olabilir? Bu arada, gerçek kurala göre, model $\\text{spam\\_likelihood} \\geq \\text{ham\\_likelihood}$ ise 1 (spam) olarak sınıflandırır, bu yüzden bu e-posta spam olarak sınıflandırılır. Gerçek ve öngörülen etiketleri karşılaştıralım."
   ]
  },
  {
   "cell_type": "code",
   "execution_count": 43,
   "metadata": {},
   "outputs": [
    {
     "name": "stdout",
     "output_type": "stream",
     "text": [
      "Örnek e-posta şu şekilde etiketlenmiştir: 0\n",
      "Naive Bayes modeli bunu şu şekilde sınıflandırır: 1\n"
     ]
    }
   ],
   "source": [
    "print(f\"Örnek e-posta şu şekilde etiketlenmiştir: {Y[example_index]}\")\n",
    "print(f\"Naive Bayes modeli bunu şu şekilde sınıflandırır: {naive_bayes(treated_email, word_frequency, class_frequency)}\")"
   ]
  },
  {
   "cell_type": "markdown",
   "metadata": {},
   "source": [
    "Yani, bu spam klasörüne yanlışlıkla gönderilecek bir e-posta! Ancak, bu davranışın tuhaf olduğunu unutmayın çünkü her iki olasılık da $0$'dır. Bu nasıl mümkün olabilir? Cevap, bunun ardındaki matematikte yatıyor!\n",
    "\n",
    "Naive Bayes için ana hesaplamayı düşünün:\n",
    "\n",
    "$$P(\\text{email} \\mid \\text{spam}) = P(\\text{word}_1 \\mid \\text{spam}) \\cdot P(\\text{word}_2 \\mid \\text{spam}) \\cdots P(\\text{word}_n \\mid \\text{spam})$$\n",
    "\n",
    "E-postadaki **her** kelimenin bir ürünüdür."
   ]
  },
  {
   "cell_type": "code",
   "execution_count": 44,
   "metadata": {},
   "outputs": [
    {
     "name": "stdout",
     "output_type": "stream",
     "text": [
      "Örnek e-postada üründe 2424 kelime var.\n"
     ]
    }
   ],
   "source": [
    "print(f\"Örnek e-postada üründe {len(treated_email)} kelime var.\")"
   ]
  },
  {
   "cell_type": "markdown",
   "metadata": {},
   "source": [
    "Yani incelediğiniz e-postada $2657$ kelime var! E-postadaki ilk 3 kelime için $P(\\text{word} \\mid \\text{ham})$ değerini hesaplayalım:"
   ]
  },
  {
   "cell_type": "code",
   "execution_count": 45,
   "metadata": {},
   "outputs": [
    {
     "name": "stdout",
     "output_type": "stream",
     "text": [
      "Word: enron. P(enron | ham) = 0.5957324106113033\n",
      "Word: india. P(india | ham) = 0.01787773933102653\n",
      "Word: newsdesk. P(newsdesk | ham) = 0.0017301038062283738\n"
     ]
    }
   ],
   "source": [
    "for i in range(3):\n",
    "    word = treated_email[i]\n",
    "    p_word_given_ham = prob_word_given_class(word, cls = 'ham', word_frequency = word_frequency, class_frequency = class_frequency)\n",
    "    print(f\"Word: {word}. P({word} | ham) = {p_word_given_ham}\")"
   ]
  },
  {
   "cell_type": "markdown",
   "metadata": {},
   "source": [
    "Hepsi olasılık olduğu için, bunlar $0$ ile $1$ arasındaki sayılardır. Dolayısıyla, gerçekleştirilen ürün $0$ ile $1$ arasındaki $2657$ sayının ürünüdür. Her kelimenin $10^{-1}$ büyüklüğünde bir olasılığa sahip olduğu en iyi senaryoda (yukarıdaki örnekteki ilk kelimeye benzer şekilde), ortaya çıkan olasılık $10^{-2657}$ büyüklüğünde olacaktır; bu, herhangi bir bilgisayarın hassasiyetle işlemesi için zor olan **çok küçük bir sayıdır**. Python'un kayan nokta sayıları (ondalık sayılar) üzerindeki sınırını inceleyelim:"
   ]
  },
  {
   "cell_type": "code",
   "execution_count": 46,
   "metadata": {},
   "outputs": [
    {
     "name": "stdout",
     "output_type": "stream",
     "text": [
      "sys.float_info(max=1.7976931348623157e+308, max_exp=1024, max_10_exp=308, min=2.2250738585072014e-308, min_exp=-1021, min_10_exp=-307, dig=15, mant_dig=53, epsilon=2.220446049250313e-16, radix=2, rounds=1)\n"
     ]
    }
   ],
   "source": [
    "import sys\n",
    "\n",
    "print(sys.float_info)"
   ]
  },
  {
   "cell_type": "markdown",
   "metadata": {},
   "source": [
    "Gördüğünüz gibi, minimum float değeri $10^{-308}$ büyüklüğündedir, $10^{-2657}$'den önemli ölçüde daha büyüktür. Sonuç olarak, Python ürünün sonucunu bir noktada $0$ olarak yorumlar ve bu da tüm bilgilerin kaybolmasına yol açar. Başka bir deyişle, algoritmanızın şu anda yazıldığı şekilde, belirli bir uzunluğun ötesinde, tüm e-postalar spam olarak sınıflandırılır. Naive Bayes tarafından gerekli görülen çok büyük üründe kök salan bu sorunun doğası göz önüne alındığında, sorunu ele almak çok önemlidir.\n",
    "\n",
    "#### 5.1.1 Alt Taşma Sorunu\n",
    "\n",
    "Karşılaştığınız zorluk, **alt taşma sorunu** olarak adlandırılır ve bilgisayarın hassasiyetinin ötesinde aşırı küçük sayılarla uğraştığınızı gösterir. Bu durumda, temel neden Naive Bayes hesaplamalarında yer alan **çok büyük üründür**. Neyse ki, bu soruna bir çözüm var.\n",
    "\n",
    "Naive Bayes'te olasılıkların belirli değerlerinin kritik olmadığını hatırlayın çünkü algoritma yalnızca **değerleri karşılaştırır**. Bu nedenle aşağıdaki denklemlerdeki paydalar göz ardı edilmiştir:\n",
    "\n",
    "$$ P(\\text{spam} \\mid \\text{email}) = \\frac{P(\\text{spam}) \\cdot P(\\text{email} \\mid \\text{spam})}{P(\\text{email})} $$\n",
    "$$ P(\\text{ham} \\mid \\text{email}) = \\frac{P(\\text{ham}) \\cdot P(\\text{email} \\mid \\text{ham})}{P(\\text{email}) } $$\n",
    "\n",
    "Hedef, ikisi arasındaki daha büyük değeri belirlemek ve aynı pozitif paydayı paylaştıkları için yalnızca paylar önemlidir. Özellikle, bu iki ürünün gerçek değerleri:\n",
    "\n",
    "$$P(\\text{spam}) \\cdot P(\\text{email} \\mid \\text{spam})$$\n",
    "$$P(\\text{ham}) \\cdot P(\\text{email} \\mid \\text{ham})$$\n",
    "\n",
    "hangisinin diğerinden daha büyük olduğunu söyleyebildiğiniz sürece önemsizdir.\n",
    "\n",
    "Bu miktarlara uygulanabilen ve **sıralamayı koruyan** bir fonksiyon varsa, o zaman bu değerlerin çıktılarını böyle bir fonksiyonda karşılaştırmak, maksimum değere sahip sınıfı belirleyecektir (gerçek sayısal değer farklı olsa da).\n",
    "\n",
    "Herhangi bir **kesin artan fonksiyon** bu özelliğe sahiptir: maksimum **noktayı** korur. Bu nedenle, fikir Naive Bayes algoritmasının karşılaştığı büyük ürünü ele almaya yardımcı olan **artan bir fonksiyon** bulmaktır. Bir tane düşünebiliyor musunuz? Evet, var: $\\log$ fonksiyonu. Bildiğiniz gibi, $\\log$ **ürünleri** **toplamlara** dönüştürebilir! $\\log$ arttığı için maksimum noktayı korur. Bu nedenle, aşağıdaki miktarları karşılaştırabilirsiniz:\n",
    "\n",
    "$$\\log \\left(P(\\text{spam}) \\cdot P(\\text{email} \\mid \\text{spam}) \\right)$$\n",
    "$$\\log \\left(P (\\text{ham}) \\cdot P(\\text{email} \\mid \\text{ham}) \\right)$$\n",
    "\n",
    "Ve bu yeni miktarlar arasından maksimum değeri seçin. Sınıfı spam veya ham olarak belirtmek:\n",
    "\n",
    "$$\\log \\left(P(\\text{class}) \\cdot P(\\text{email} \\mid \\text{class}) \\right) = \\log \\left(P(\\text{class}) \\right) + \\log \\left( P(\\text{email} \\mid \\text{class}) \\right)$$\n",
    "\n",
    "Ve\n",
    "\n",
    "$$\\log \\left( P(\\text{email} \\mid \\text{class}) \\right) = \\log \\left(P(\\text{word}_1 \\mid \\text{class}) \\cdot P(\\text{word}_2 \\mid \\text{class}) \\cdots P(\\text{word}_n \\mid \\text{class}) \\right) = \\log \\left(P(\\text{word}_1 \\mid \\text{class}) \\right) + \\log \\left(P(\\text{word}_2 \\mid \\text{class})\\right) + \\cdots + \\log \\left( P(\\text{word}_n \\mid \\text{class}) \\right) $$\n",
    "\n",
    "Bu yaklaşımla, büyük bir ürünü büyük bir toplama, sayısal olarak önemli ölçüde daha kararlı bir işleme dönüştürdünüz. Şimdi, bu yeni teknikle fonksiyonlarımızı iyileştireceksiniz! İki fonksiyonu ayarlamanız gerekiyor:\n",
    "\n",
    "- `prob_email_given_class` - olasılık kelime ürününü logaritmaların toplamı ile değiştirin\n",
    "- `naive_bayes` - $P(\\text{class}) \\cdot P(\\text{email} \\mid \\text{class})$ ürününü ilgili logaritma toplamıyla değiştirin.\n",
    "\n",
    "Yeni fonksiyonlar `log_prob_email_given_class` ve `log_naive_bayes` olarak adlandırılacaktır."
   ]
  },
  {
   "cell_type": "code",
   "execution_count": 58,
   "metadata": {},
   "outputs": [],
   "source": [
    "def log_prob_email_given_class(treated_email, cls, word_frequency, class_frequency):\n",
    "    \"\"\"\n",
    "    Bu fonksiyon, bir e-postanın belirli bir sınıfa (örneğin, spam veya ham) ait olma olasılığının logaritmasını hesaplar.\n",
    "    Hesaplama, e-posta içeriği üzerinde yapılan işlem sonrasında elde edilen kelimelere dayanır.\n",
    "\n",
    "    Parametreler:\n",
    "    - treated_email (list): E-posta içeriğindeki işlenmiş kelimelerden oluşan bir liste.\n",
    "    - cls (str): E-posta sınıfının etiketi ('spam' veya 'ham')\n",
    "    \n",
    "    Dönen Değer:\n",
    "    - float: Verilen e-postanın belirtilen sınıfa ait olma logaritmik olasılığı.\n",
    "    \"\"\"\n",
    "\n",
    "    # Başlangıçta prob 0 olarak ayarlanır çünkü her kelime için log(P(kelime | sınıf)) hesaplanarak buna ekleme yapılacak\n",
    "    prob = 0\n",
    "\n",
    "    for word in treated_email: \n",
    "        # Sadece word_frequency sözlüğünde mevcut olan kelimeler için hesaplama yapılacak\n",
    "        if word in word_frequency.keys(): \n",
    "            # prob değeri her bir kelime için log(P(kelime | sınıf)) ile güncelleniyor\n",
    "            prob += np.log(prob_word_given_class(word, cls, word_frequency, class_frequency))\n",
    "\n",
    "    return prob\n"
   ]
  },
  {
   "cell_type": "code",
   "execution_count": 59,
   "metadata": {},
   "outputs": [
    {
     "name": "stdout",
     "output_type": "stream",
     "text": [
      "For word schedule:\n",
      "\tP(schedule | spam) = 0.008976660682226212\n",
      "\tlog(P(schedule | spam)) = -4.713127327493184\n"
     ]
    }
   ],
   "source": [
    "# Sadece bir kelimeden oluşan bir e-postayı ele alalım, bu yüzden P(kelime | sınıf) veya log(P(kelime | sınıf)) değerini hesaplamak için indirgenir.\n",
    "one_word_email = ['schedule']\n",
    "word = one_word_email[0]\n",
    "prob_spam = prob_email_given_class(one_word_email, cls = 'spam',word_frequency = word_frequency, class_frequency = class_frequency)\n",
    "log_prob_spam = log_prob_email_given_class(one_word_email, cls = 'spam',word_frequency = word_frequency, class_frequency = class_frequency)\n",
    "print(f\"For word {word}:\\n\\tP({word} | spam) = {prob_spam}\\n\\tlog(P({word} | spam)) = {log_prob_spam}\")"
   ]
  },
  {
   "cell_type": "markdown",
   "metadata": {},
   "source": [
    "$\\text{log}$'un küçük bir sayıyı iyi büyüklükte negatif bir sayıya dönüştürebildiğini unutmayın. Dahası, algoritma artık ürün yerine toplama işlemi gerçekleştiriyor.\n",
    "\n",
    "Bir sonraki kod bloğu log_naive_bayes'i uygular."
   ]
  },
  {
   "cell_type": "code",
   "execution_count": 60,
   "metadata": {},
   "outputs": [],
   "source": [
    "def log_naive_bayes(treated_email, word_frequency, class_frequency, return_likelihood = False):    \n",
    "    \"\"\"\n",
    "    Spam tespiti için Naive Bayes sınıflandırıcısı, gerçek olasılıklar yerine logaritmik olasılıkları karşılaştırır.\n",
    "\n",
    "    Bu fonksiyon, Naive Bayes algoritmasını kullanarak bir e-postanın spam (1) veya ham (0) olma logaritmik olasılığını hesaplar. \n",
    "    Bu işlem, işlenmiş e-posta içeriği ve spam ve ham için koşullu olasılıkların yanı sıra, spam ve ham sınıflarının önceden belirlenen olasılıklarını kullanır. \n",
    "    Son karar, hesaplanan logaritmik olasılıkların karşılaştırılması ile yapılır.\n",
    "\n",
    "    Parametreler:\n",
    "    - treated_email (list): İşlenmiş e-posta içeriği (kelimelerden oluşan liste).\n",
    "    - return_likelihood (bool): Eğer True ise, spam ve ham için logaritmik olasılıkları döndürüyor.\n",
    "\n",
    "    Dönen Değer:\n",
    "    - int: Eğer e-posta spam olarak sınıflandırılmışsa 1, ham olarak sınıflandırılmışsa 0 döner.\n",
    "    \"\"\"\n",
    "    \n",
    "    # P(e-posta | spam) hesaplanıyor, burada log fonksiyonu kullanılıyor\n",
    "    log_prob_email_given_spam = log_prob_email_given_class(treated_email, cls = 'spam', word_frequency = word_frequency, class_frequency = class_frequency) \n",
    "\n",
    "    # P(e-posta | ham) hesaplanıyor, yine aynı şekilde log fonksiyonu ile\n",
    "    log_prob_email_given_ham = log_prob_email_given_class(treated_email, cls = 'ham', word_frequency = word_frequency, class_frequency = class_frequency) \n",
    "\n",
    "    # P(spam) hesaplanıyor, class_frequency sözlüğünden kullanılarak #spam e-posta / #toplam e-posta\n",
    "    p_spam = class_frequency['spam'] / (class_frequency['ham'] + class_frequency['spam']) \n",
    "\n",
    "    # P(ham) hesaplanıyor, class_frequency sözlüğünden kullanılarak #ham e-posta / #toplam e-posta\n",
    "    p_ham = class_frequency['ham'] / (class_frequency['ham'] + class_frequency['spam']) \n",
    "\n",
    "    # log(P(spam)) + log(P(e-posta | spam)) hesaplanıyor, buna log_spam_likelihood diyoruz\n",
    "    log_spam_likelihood = np.log(p_spam) + log_prob_email_given_spam \n",
    "\n",
    "    # log(P(ham)) + log(P(e-posta | ham)) hesaplanıyor, buna log_ham_likelihood diyoruz\n",
    "    log_ham_likelihood = np.log(p_ham) + log_prob_email_given_ham \n",
    "\n",
    "    # Eğer return_likelihood True ise, her iki logaritmik olasılığı döndürüyoruz\n",
    "    if return_likelihood == True:\n",
    "        return (log_spam_likelihood, log_ham_likelihood)\n",
    "    \n",
    "    # Her iki değeri karşılaştırıp, daha yüksek olanın sınıfını seçiyoruz.\n",
    "    # Çünkü logaritma artan bir fonksiyon olduğundan, daha yüksek olan sınıf bu özelliği korur.\n",
    "    if log_spam_likelihood >= log_ham_likelihood:\n",
    "        return 1  # Spam\n",
    "    else:\n",
    "        return 0  # Ham\n"
   ]
  },
  {
   "cell_type": "markdown",
   "metadata": {},
   "source": [
    "Bölümün başındaki örneği tekrar ziyaret ederek `log_spam_likelihood` ve `log_ham_likelihood` değerlerini hesaplayacaksınız."
   ]
  },
  {
   "cell_type": "code",
   "execution_count": 61,
   "metadata": {},
   "outputs": [
    {
     "name": "stdout",
     "output_type": "stream",
     "text": [
      "log_spam_olasılığı: -10818.78118985717\n",
      "log_ham_olasılığı: -9684.31898954805\n"
     ]
    }
   ],
   "source": [
    "log_spam_likelihood, log_ham_likelihood = log_naive_bayes(treated_email,word_frequency = word_frequency, class_frequency = class_frequency,return_likelihood = True)\n",
    "print(f\"log_spam_olasılığı: {log_spam_likelihood}\\nlog_ham_olasılığı: {log_ham_likelihood}\")"
   ]
  },
  {
   "cell_type": "markdown",
   "metadata": {},
   "source": [
    "Harika! Şimdi iki tane farklı sıfır olmayan sayı var! Daha yüksek olanın `log_ham_likelihood` olduğunu unutmayın, bu nedenle `log_naive_bayes` fonksiyonu bu e-postayı doğru bir şekilde ham olarak tahmin edecektir:"
   ]
  },
  {
   "cell_type": "code",
   "execution_count": 62,
   "metadata": {},
   "outputs": [
    {
     "name": "stdout",
     "output_type": "stream",
     "text": [
      "Örnek e-posta şu şekilde etiketlenmiştir: 0\n",
      "Log Naive Bayes modeli bunu şu şekilde sınıflandırır: 0\n"
     ]
    }
   ],
   "source": [
    "print(f\"Örnek e-posta şu şekilde etiketlenmiştir: {Y[example_index]}\")\n",
    "print(f\"Log Naive Bayes modeli bunu şu şekilde sınıflandırır: {log_naive_bayes(treated_email,word_frequency = word_frequency, class_frequency = class_frequency)}\")"
   ]
  },
  {
   "cell_type": "markdown",
   "metadata": {},
   "source": [
    "Bu geliştirilmiş algoritma ile yeni doğruluk şu şekildedir:"
   ]
  },
  {
   "cell_type": "code",
   "execution_count": 63,
   "metadata": {},
   "outputs": [
    {
     "name": "stdout",
     "output_type": "stream",
     "text": [
      "Gerçek pozitiflerin sayısı: 249\n",
      "Gerçek negatiflerin sayısı: 888\n",
      "Doğruluk: 0.9921\n"
     ]
    }
   ],
   "source": [
    "# Test seti için tahminleri alalım:\n",
    "\n",
    "# Tahminleri depolamak için boş bir liste oluştur\n",
    "Y_pred = []\n",
    "\n",
    "\n",
    "# Test kümesindeki her e-postayı yineleyin\n",
    "for email in X_test:\n",
    "    # Tahmini gerçekleştir\n",
    "    prediction = log_naive_bayes(email,word_frequency = word_frequency, class_frequency = class_frequency)\n",
    "    # Listeye ekle\n",
    "    Y_pred.append(prediction)\n",
    "\n",
    "# Gerçek pozitiflerin sayısını al:\n",
    "true_positives = get_true_positives(Y_test, Y_pred)\n",
    "\n",
    "# Gerçek negatiflerin sayısını al:\n",
    "true_negatives = get_true_negatives(Y_test, Y_pred)\n",
    "\n",
    "print(f\"Gerçek pozitiflerin sayısı: {true_positives}\\nGerçek negatiflerin sayısı: {true_negatives}\")\n",
    "\n",
    "# Doğruluğu, gerçek negatifleri gerçek pozitiflerle toplayıp veri kümesindeki toplam eleman sayısına bölerek hesaplayın.\n",
    "# Hem Y_pred hem de Y_test aynı uzunluğa sahip olduğundan hangisini kullandığınız önemli değildir.\n",
    "accuracy = (true_positives + true_negatives)/len(Y_test)\n",
    "\n",
    "print(f\"Doğruluk: {accuracy:.4f}\")"
   ]
  },
  {
   "cell_type": "markdown",
   "metadata": {},
   "source": [
    "Bu **çok büyük** bir gelişme! Modelin doğruluğunu test setinde %86,13'den %99,21'e çıkardınız! Neredeyse %13'lik bir artış. Ve veri setine dokunmadınız, bu tamamen arkasındaki **matematik** açısından bir gelişmeydi. Güçlü, değil mi?"
   ]
  },
  {
   "cell_type": "markdown",
   "metadata": {},
   "source": [
    "<a name=\"5.2\"></a>\n",
    "### 5.2 Model performansını geliştirme: Naive Bayes ile pratik uygulama\n",
    "\n",
    "#### 5.2.1 Giriş\n",
    "\n",
    "Bu bölümde, yukarıda tanımladığınız her iki Naive Bayes modelini  bir sorunu çözmek için kullanacaksınız:\n",
    "\n",
    "Belirli bir e-posta yazılımında çalıştırmak için iyi bir spam algılama modeli geliştirmelisiniz. Bu bölümde çalıştığınız veri kümesi, bu yazılımdan elde ettiğiniz e-posta tabanıdır. Kullanıcıları spam almaktan etkili bir şekilde korumak için bir yöntem oluşturmalısınız, **ancak spam klasörüne ham e-postalar göndermekten kaçınmalısınız** çünkü bu, bir kullanıcının önemli e-postalarını kaybetmesine neden olabilir. Öte yandan, birkaç spam e-postasının gelen kutusu klasörüne geçmesine izin vermekle ilgili değildir.\n",
    "\n",
    "#### 5.2.2 Doğruluk ve sınırlamaları\n",
    "\n",
    "Şu anda, şu ana kadar geliştirdiğiniz modelin gerçek performansı nedir? Yukarıda tanımladığınız doğruluk metriğinin, özellikle bu spam algılama sorununda bazı sınırlamaları vardır. Defterin başında, veri kümesindeki spam e-postalarının oranının %23,88 olduğunu gördünüz. Yani, **her e-postayı doğrudan gelen kutusu klasörüne** göndermek için bir kural oluşturursanız, her e-postanın %76,12'sini doğru şekilde sınıflandırır! Yani bu anlamsız kuralın doğruluğu %76,12'dir.\n",
    "\n",
    "Bu soruyu doğru şekilde cevaplamaya çalışmak için kendinize iki soru sorabilirsiniz:\n",
    "\n",
    "- Algoritma kaç tane spam e-postayı doğru şekilde spam olarak sınıflandırıyor? Bunlara **gerçek pozitifler** denir.\n",
    "- Algoritma kaç tane **amatör** e-postayı **yanlışlıkla** spam olarak sınıflandırıyor? Bunlara **yanlış pozitifler** denir. **Bu, daha yakından bakmanız gereken önemli sorudur.**\n",
    "\n",
    "İlk soru [*geri çağırma*](https://en.wikipedia.org/wiki/Precision_and_recall) adlı bir metrikle ilgilidir. İlk soruyu cevaplamak için, veri setinde kaç tane spam e-postası olduğunu saymalı ve bunlardan kaçının model tarafından doğru bir şekilde spam olarak etiketlendiğini (gerçek pozitifler) saymalısınız. Bu, geri çağırma olarak tanımlanır:\n",
    "\n",
    "$$\\text{geri çağırma} = \\frac{\\text{gerçek pozitifler (spam olarak doğru bir şekilde etiketlenen spam e-postalar)}}{\\text{her spam e-posta}}$$\n",
    "\n",
    "Bu metriğin tanımlanmasının bir başka yolu da, bir spam e-postasının doğru bir şekilde spam olarak etiketleneceğini (gerçek pozitif) veya yanlışlıkla ham olarak etiketleneceğini (yanlış negatif) düşünmektir, bu nedenle\n",
    "\n",
    "$$\\text{geri çağırma} =\\frac{\\text{gerçek pozitifler}}{\\text{gerçek pozitifler} + \\text{yanlış negatifler}}$$\n",
    "\n",
    "Şimdi geri çağırma işlevini yapacaz."
   ]
  },
  {
   "cell_type": "code",
   "execution_count": 64,
   "metadata": {},
   "outputs": [],
   "source": [
    "def get_recall(Y_true, Y_pred):\n",
    "    \"\"\"\n",
    "    İkili sınıflandırma görevinde recall (geri çağırma) değerini hesaplar.\n",
    "\n",
    "    Parametreler:\n",
    "    - Y_true (array-like): Gerçek etiketler (ground truth).\n",
    "    - Y_pred (array-like): Tahmin edilen etiketler.\n",
    "\n",
    "    Dönen Değer:\n",
    "    - recall (float): Recall skoru, gerçek pozitiflerin (true positives) toplam gerçek pozitiflere (actual positives) oranıdır.\n",
    "    \"\"\"\n",
    "    # Toplam spam e-postalarının sayısını buluyoruz. Veride spam'ler 1 olarak işaretlendiği için, Y_true dizisindeki 1'lerin toplamı bu sayıyı verir.\n",
    "    total_number_spams = Y_test.sum()\n",
    "    \n",
    "    # Gerçek pozitifleri (true positives) hesaplıyoruz\n",
    "    true_positives = get_true_positives(Y_true, Y_pred)\n",
    "    \n",
    "    # Recall'ı hesaplıyoruz (true_positives / toplam spam sayısı)\n",
    "    recall = true_positives / total_number_spams\n",
    "    return recall\n"
   ]
  },
  {
   "cell_type": "code",
   "execution_count": 65,
   "metadata": {},
   "outputs": [],
   "source": [
    "# Naive Bayes modelini (standart ve log versiyonlarını) kullanarak test veri setindeki her bir e-postayı sınıflandırıyoruz\n",
    "Y_pred_naive_bayes = []  # Standart Naive Bayes tahmin sonuçları\n",
    "Y_pred_log_naive_bayes = []  # Log Naive Bayes tahmin sonuçları\n",
    "\n",
    "# X_test'teki her e-posta için tahmin yapıyoruz\n",
    "for email in X_test:\n",
    "    # Naive Bayes modelini kullanarak tahmin yapıyoruz\n",
    "    prediction = naive_bayes(email, word_frequency=word_frequency, class_frequency=class_frequency)\n",
    "    # Log Naive Bayes modelini kullanarak tahmin yapıyoruz\n",
    "    log_prediction = log_naive_bayes(email, word_frequency=word_frequency, class_frequency=class_frequency)\n",
    "    \n",
    "    # Her iki modelin tahmin sonuçlarını ilgili listelere ekliyoruz\n",
    "    Y_pred_naive_bayes.append(prediction)\n",
    "    Y_pred_log_naive_bayes.append(log_prediction)\n",
    "\n",
    "# Her iki model için recall değerlerini hesaplıyoruz\n",
    "recall_naive_bayes = get_recall(Y_test, Y_pred_naive_bayes)  # Standart Naive Bayes recall'ı\n",
    "recall_log_naive_bayes = get_recall(Y_test, Y_pred_log_naive_bayes)  # Log Naive Bayes recall'ı\n"
   ]
  },
  {
   "cell_type": "code",
   "execution_count": 66,
   "metadata": {},
   "outputs": [
    {
     "name": "stdout",
     "output_type": "stream",
     "text": [
      "Standart Naive Bayes modelinin, spam e-postalarını doğru sınıflandırma oranı (recall): 0.9803\n",
      "Log Naive Bayes modelinin, spam e-postalarını doğru sınıflandırma oranı (recall): 0.9803\n"
     ]
    }
   ],
   "source": [
    "print(f\"Standart Naive Bayes modelinin, spam e-postalarını doğru sınıflandırma oranı (recall): {recall_naive_bayes:.4f}\")\n",
    "print(f\"Log Naive Bayes modelinin, spam e-postalarını doğru sınıflandırma oranı (recall): {recall_log_naive_bayes:.4f}\")\n"
   ]
  },
  {
   "cell_type": "markdown",
   "metadata": {},
   "source": [
    "Tamam, her iki model de **spam'leri tespit etmede** oldukça iyi performans gösteriyor ve bunların %98'ini doğru bir şekilde tespit edebiliyor! Bu ölçüm bize modelin **duyarlılığı** hakkında bilgi veriyor. Başka bir deyişle, bu ölçüm bize modelin bir spam e-postayı tespit etmede ne kadar etkili olduğunu gösteriyor.\n",
    "\n",
    "Şimdi ikinci soruyla karşı karşıyasınız. Bu, *[kesinlik](https://en.wikipedia.org/wiki/Precision_and_recall)* adlı başka bir ölçümle alakalı.\n",
    "\n",
    "Soruyu cevaplamak için Naive Bayes modellerinin spam olarak sınıflandırdığı tüm e-postalara ve bu havuzda **aslında** kaç tanesinin spam olduğuna bakmalısınız. Bu, bakılması gereken önemli bir ölçümdür çünkü herhangi bir e-postayı spam olarak sınıflandıran bir model, spam e-postaların %100'ünü doğru bir şekilde sınıflandıran bir modeldir, ancak anlamsızdır! Ayrıca, spam klasörüne düzenli e-postalar göndermekten kaçınmalısınız, aksi takdirde kullanıcılar önemli e-postaları kaybedebilir.\n",
    "\n",
    "Bu soru **yanlış pozitifler** olarak adlandırılan şeyle ilgilidir. Başka bir deyişle, şimdi algoritmanın spam klasörüne kaç tane ham e-posta gönderdiğine bakıyorsunuz. Bir sonraki kod bloğunda, yanlış pozitifleri hesaplamak için bir fonksiyon oluşturacaz."
   ]
  },
  {
   "cell_type": "code",
   "execution_count": 67,
   "metadata": {},
   "outputs": [],
   "source": [
    "def get_false_positives(Y_true, Y_pred):\n",
    "    \"\"\"\n",
    "    İkili sınıflandırma problemlerinde, yanlış pozitif (false positive) sayısını hesaplar.\n",
    "\n",
    "    Parametreler:\n",
    "    - Y_true (list): Her bir örneğin gerçek etiketleri (0 veya 1).\n",
    "    - Y_pred (list): Her bir örneğin tahmin edilen etiketleri (0 veya 1).\n",
    "\n",
    "    Döndürülen değer:\n",
    "    - int: Yanlış pozitif sayısı, gerçek etiketin 0 ve tahmin edilen etiketin 1 olduğu durumlar.\n",
    "    \"\"\"\n",
    "    \n",
    "    # Y_true ve Y_pred listelerinin uzunluklarının eşit olduğundan emin olunmalıdır.\n",
    "    if len(Y_true) != len(Y_pred):\n",
    "        return \"Gerçek etiket sayısı ile tahmin edilen etiket sayısı eşleşmelidir!\"\n",
    "    \n",
    "    n = len(Y_true)  # Y_true'nun uzunluğu\n",
    "\n",
    "    false_positives = 0  # Yanlış pozitif sayısını sıfırla başlatıyoruz\n",
    "    # Liste elemanları üzerinde dönüyoruz\n",
    "    for i in range(n):\n",
    "        # Şu anki e-posta için gerçek etiketi alıyoruz\n",
    "        true_label_i = Y_true[i]\n",
    "        # Şu anki e-posta için tahmin edilen etiketi alıyoruz\n",
    "        predicted_label_i = Y_pred[i]\n",
    "        # Yalnızca gerçek etiket 0 ve tahmin edilen etiket 1 olduğunda, yanlış pozitif sayısını 1 artırıyoruz\n",
    "        if true_label_i == 0 and predicted_label_i == 1:\n",
    "            false_positives += 1\n",
    "    \n",
    "    return false_positives  # Yanlış pozitif sayısını geri döndürüyoruz\n"
   ]
  },
  {
   "cell_type": "code",
   "execution_count": 68,
   "metadata": {},
   "outputs": [],
   "source": [
    "# Yanlışlıkla spam olarak etiketlenen ham e-postaları sayalım (false positives). Yukarıda gördüğümüz get_false_positives fonksiyonunu kullanalım\n",
    "\n",
    "false_positives_naive_bayes = get_false_positives(Y_test, Y_pred_naive_bayes)  # Standart Naive Bayes modelinin yanlış pozitiflerini hesapla\n",
    "false_positives_log_naive_bayes = get_false_positives(Y_test, Y_pred_log_naive_bayes)  # Log Naive Bayes modelinin yanlış pozitiflerini hesapla\n"
   ]
  },
  {
   "cell_type": "code",
   "execution_count": 69,
   "metadata": {},
   "outputs": [
    {
     "name": "stdout",
     "output_type": "stream",
     "text": [
      "Standart Naive Bayes modelindeki yanlış pozitif sayısı: 154\n",
      "Log Naive Bayes modelindeki yanlış pozitif sayısı: 4\n"
     ]
    }
   ],
   "source": [
    "print(f\"Standart Naive Bayes modelindeki yanlış pozitif sayısı: {false_positives_naive_bayes}\")\n",
    "print(f\"Log Naive Bayes modelindeki yanlış pozitif sayısı: {false_positives_log_naive_bayes}\")\n"
   ]
  },
  {
   "cell_type": "markdown",
   "metadata": {},
   "source": [
    "Bu çok büyük bir gelişme! 169 adet ham e-postanın yanlışlıkla spam olarak etiketlenmesinden sadece 4'e düştünüz! Daha anlamlı bir sayı elde etmek için aşağıdaki miktarı hesaplayabilirsiniz:\n",
    "\n",
    "- Tahmin edilen spam e-posta havuzunda bulunan gerçek spam e-postalarının (gerçek pozitifler) oranı. Tahmin edilen e-posta havuzunun **doğru şekilde spam olarak etiketlenen her spam e-postasından** (gerçek pozitifler) ve **yanlışlıkla spam olarak etiketlenen her ham e-postasından** (yanlış pozitifler) oluştuğunu unutmayın.\n",
    "\n",
    "Bu miktara **kesinlik** denir ve şu şekilde tanımlanır:\n",
    "\n",
    "$$\\text{kesinlik} = \\frac{\\text{gerçek pozitifler}}{\\text{gerçek pozitifler} + \\text{yanlış pozitifler}}$$\n",
    "\n",
    "Bu ölçüm, modelinizin çıktısının ne kadar **ilgili** olduğunu söyler. Daha önce tartışıldığı gibi, her e-postayı spam olarak öngören bir model her spam e-postayı doğru bir şekilde tanımlayabilir, ancak her ham e-postayı spam klasörüne gönderdiği için çıktısı önemsizdir. Şimdi bunu uygulayacaz."
   ]
  },
  {
   "cell_type": "code",
   "execution_count": 70,
   "metadata": {},
   "outputs": [],
   "source": [
    "def get_precision(Y_true, Y_pred):\n",
    "    \"\"\"\n",
    "    Bir sınıflandırma modelinin performansını ölçmek için hassasiyet (precision) hesaplar.\n",
    "    Hassasiyet, doğru pozitiflerin, doğru pozitifler ve yanlış pozitiflerin toplamına oranıdır.\n",
    "\n",
    "    Parametreler:\n",
    "    - Y_true (liste): Gerçek etiketler.\n",
    "    - Y_pred (liste): Tahmin edilen etiketler.\n",
    "\n",
    "    Dönen:\n",
    "    - precision (float): Hesaplanan hassasiyet skoru.\n",
    "    \"\"\"\n",
    "    # Doğru pozitifleri al\n",
    "    true_positives = get_true_positives(Y_true, Y_pred)\n",
    "    # Yanlış pozitifleri al\n",
    "    false_positives = get_false_positives(Y_true, Y_pred)\n",
    "    # Hassasiyeti hesapla\n",
    "    precision = true_positives / (true_positives + false_positives)\n",
    "    return precision\n"
   ]
  },
  {
   "cell_type": "code",
   "execution_count": 71,
   "metadata": {},
   "outputs": [
    {
     "name": "stdout",
     "output_type": "stream",
     "text": [
      "Standart Naive Bayes modelinin hassasiyeti: 0.6179\n",
      "Log Naive Bayes modelinin hassasiyeti: 0.9842\n"
     ]
    }
   ],
   "source": [
    "print(f\"Standart Naive Bayes modelinin hassasiyeti: {get_precision(Y_test, Y_pred_naive_bayes):.4f}\")\n",
    "print(f\"Log Naive Bayes modelinin hassasiyeti: {get_precision(Y_test, Y_pred_log_naive_bayes):.4f}\")\n"
   ]
  },
  {
   "cell_type": "markdown",
   "metadata": {},
   "source": [
    "Modelin ilk versiyonu %59,57 hassasiyete sahip. Başka bir deyişle, modelin spam olarak sınıflandırdığı 100 e-postadan yalnızca yaklaşık 60'ı gerçekten spam. Bu, bu modelin spam klasörüne 40 amatör e-posta göndereceği anlamına geliyor, bu da çok hassas olmasına rağmen çok güvenilir olmadığını gösteriyor.\n",
    "\n",
    "Öte yandan, geliştirilmiş modelin hassasiyeti %98,42! Yani spam olarak sınıflandırılan 100 e-postadan yalnızca yaklaşık 2'si gerçekten amatör e-posta olacak. Çok daha güvenilir bir çıktı."
   ]
  }
 ],
 "metadata": {
  "grader_version": "1",
  "kernelspec": {
   "display_name": "Python 3",
   "language": "python",
   "name": "python3"
  },
  "language_info": {
   "codemirror_mode": {
    "name": "ipython",
    "version": 3
   },
   "file_extension": ".py",
   "mimetype": "text/x-python",
   "name": "python",
   "nbconvert_exporter": "python",
   "pygments_lexer": "ipython3",
   "version": "3.11.5"
  }
 },
 "nbformat": 4,
 "nbformat_minor": 2
}
